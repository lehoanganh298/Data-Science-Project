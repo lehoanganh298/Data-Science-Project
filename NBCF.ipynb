{
 "cells": [
  {
   "cell_type": "code",
   "execution_count": 1,
   "metadata": {},
   "outputs": [],
   "source": [
    "import pandas as pd \n",
    "import numpy as np\n",
    "from sklearn.metrics.pairwise import cosine_similarity\n",
    "from scipy import sparse "
   ]
  },
  {
   "cell_type": "code",
   "execution_count": 2,
   "metadata": {},
   "outputs": [],
   "source": [
    "class NBCF(object):\n",
    "    def __init__(self, data,user_col,item_col,rating_col, k_nearest_neighbor = 5, dist_func=cosine_similarity):\n",
    "        self.data = data\n",
    "        self.user_col = user_col\n",
    "        self.item_col = item_col\n",
    "        self.rating_col = rating_col\n",
    "        \n",
    "        self.users = self.data[user_col].unique()\n",
    "        self.items = self.data[item_col].unique()\n",
    "        self.user_to_idx = dict(zip(list(self.users),list(range(self.users.size))))\n",
    "        self.item_to_idx = dict(zip(list(self.items),list(range(self.items.size))))\n",
    "        \n",
    "        self.k_nearest_neighbor = k_nearest_neighbor\n",
    "        self.dist_func = dist_func\n",
    "        \n",
    "    def normalize(self):\n",
    "        self.data_norm = self.data.copy()\n",
    "        self.mu = {}\n",
    "        for user in self.users:\n",
    "            user_mean = self.data[self.data[self.user_col] == user][self.rating_col].mean()\n",
    "            self.mu[user] = user_mean\n",
    "            self.data_norm.loc[self.data[self.user_col] == user, self.rating_col] -= user_mean\n",
    "        \n",
    "        self.matrix = sparse.coo_matrix((self.data_norm[self.rating_col],\n",
    "            (self.data_norm[self.item_col].apply(lambda x: self.item_to_idx[x]), \n",
    "             self.data_norm[self.user_col].apply(lambda x: self.user_to_idx[x]))), \n",
    "            (self.items.size, self.users.size))\n",
    "        \n",
    "        self.matrix = self.matrix.tocsr()\n",
    "        \n",
    "    def similarity(self):\n",
    "        self.S = self.dist_func(self.matrix.T, self.matrix.T)     \n",
    "        \n",
    "    def fit(self):\n",
    "        self.normalize()\n",
    "        self.similarity()\n",
    "\n",
    "    def predict_rating(self, userID, itemID):\n",
    "#         print(userID,itemID)\n",
    "        rating_for_item = self.data[self.data[self.item_col] == itemID]\n",
    "#         print(rating_for_item)\n",
    "        user_rated_item_idx = np.fromiter(map(self.user_to_idx.__getitem__, rating_for_item[self.user_col]),dtype=np.int)\n",
    "        similarity_with_user = self.S[self.user_to_idx[userID],user_rated_item_idx]\n",
    "        nearest_users_idx = np.argsort(similarity_with_user)[-self.k_nearest_neighbor:] \n",
    "        nearest_distances = similarity_with_user[nearest_users_idx]\n",
    "        nearest_rating = self.matrix[1, user_rated_item_idx[nearest_users_idx]]\n",
    "\n",
    "        return (nearest_rating*nearest_distances)[0]/(np.abs(nearest_distances).sum() + 1e-8) + self.mu[userID]"
   ]
  },
  {
   "cell_type": "code",
   "execution_count": 3,
   "metadata": {},
   "outputs": [
    {
     "name": "stdout",
     "output_type": "stream",
     "text": [
      "RMSE = 1.0691429261084866\n"
     ]
    }
   ],
   "source": [
    "# test movielens\n",
    "train_data = pd.read_csv('ml-100k/ub.base',sep='\\t',header=None)\n",
    "\n",
    "rs = NBCF(train_data,user_col=0,item_col=1,rating_col=2,k_nearest_neighbor=30)\n",
    "rs.fit()\n",
    "\n",
    "rate_test = pd.read_csv('ml-100k/ub.test',sep='\\t',header=None)\n",
    "n_tests = rate_test.shape[0]\n",
    "SE = 0 # squared error\n",
    "for n in range(n_tests):\n",
    "#     print(rate_test.iloc[n, 0], rate_test.iloc[n, 1])\n",
    "    pred = rs.predict_rating(rate_test.iloc[n, 0], rate_test.iloc[n, 1])\n",
    "#     print(pred,rate_test.iloc[n, 2])\n",
    "    SE += (pred - rate_test.iloc[n, 2])**2 \n",
    "\n",
    "RMSE = np.sqrt(SE/n_tests)\n",
    "print('RMSE =', RMSE)"
   ]
  },
  {
   "cell_type": "code",
   "execution_count": 5,
   "metadata": {},
   "outputs": [],
   "source": [
    "# test our data\n",
    "data = pd.read_csv('crawl-ratings/train.csv')\n",
    "\n",
    "rs = NBCF(data,user_col='UserID',item_col='MovieID',rating_col='Rating',k_nearest_neighbor=30)\n",
    "rs.fit()"
   ]
  },
  {
   "cell_type": "code",
   "execution_count": 6,
   "metadata": {},
   "outputs": [
    {
     "name": "stdout",
     "output_type": "stream",
     "text": [
      "RMSE = 2.697235202403294\n"
     ]
    }
   ],
   "source": [
    "test_data=pd.read_csv('crawl-ratings/test.csv')\n",
    "output_file = open('crawl-ratings/predict.csv','w')\n",
    "output_file.write('UserID,MovieID,Rating\\n')\n",
    "SE = 0\n",
    "for i, row in test_data.iterrows():\n",
    "    pred = rs.predict_rating(row['UserID'],row['MovieID'])\n",
    "    output_file.write('{},{},{}\\n'.format(row['UserID'],row['MovieID'],pred))\n",
    "    SE += (pred - row['Rating'])**2 \n",
    "\n",
    "RMSE = np.sqrt(SE/test_data.shape[0])\n",
    "print('RMSE =', RMSE)\n",
    "output_file.close()"
   ]
  }
 ],
 "metadata": {
  "kernelspec": {
   "display_name": "Python 3",
   "language": "python",
   "name": "python3"
  },
  "language_info": {
   "codemirror_mode": {
    "name": "ipython",
    "version": 3
   },
   "file_extension": ".py",
   "mimetype": "text/x-python",
   "name": "python",
   "nbconvert_exporter": "python",
   "pygments_lexer": "ipython3",
   "version": "3.7.3"
  }
 },
 "nbformat": 4,
 "nbformat_minor": 4
}
