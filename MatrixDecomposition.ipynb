{
 "cells": [
  {
   "cell_type": "code",
   "execution_count": 1,
   "metadata": {},
   "outputs": [],
   "source": [
    "import os\n",
    "import itertools\n",
    "import pickle\n",
    "\n",
    "from surprise import SVD\n",
    "from surprise import Dataset\n",
    "from surprise import accuracy\n",
    "from surprise.model_selection import train_test_split\n",
    "from surprise import Reader"
   ]
  },
  {
   "cell_type": "code",
   "execution_count": 2,
   "metadata": {},
   "outputs": [],
   "source": [
    "# Load the data set from file\n",
    "file_path = os.path.join(\"crawl-ratings\", \"train.csv\")\n",
    "reader = Reader(\n",
    "    line_format=\"user item rating\", sep=\",\", rating_scale=(1, 10), skip_lines=1\n",
    ")\n",
    "data = Dataset.load_from_file(file_path, reader=reader)\n",
    "\n",
    "# sample random trainset and validation set\n",
    "# val set is made of 25% of the ratings.\n",
    "train_set, validation_set = train_test_split(data, test_size=0.25)"
   ]
  },
  {
   "cell_type": "code",
   "execution_count": 3,
   "metadata": {},
   "outputs": [
    {
     "name": "stdout",
     "output_type": "stream",
     "text": [
      "Processing epoch 0\n",
      "Processing epoch 1\n",
      "Processing epoch 2\n",
      "Processing epoch 3\n",
      "Processing epoch 4\n",
      "RMSE: 1.5539\n",
      "12.8 s ± 0 ns per loop (mean ± std. dev. of 1 run, 1 loop each)\n"
     ]
    }
   ],
   "source": [
    "%%timeit -n1 -r1\n",
    "\n",
    "# We'll use the famous SVD algorithm.\n",
    "algo = SVD(verbose=True, n_epochs=5)\n",
    "\n",
    "# Train the algorithm on the trainset, and predict ratings for the testset\n",
    "algo.fit(train_set)\n",
    "predictions = algo.test(validation_set)\n",
    "\n",
    "# Then compute RMSE\n",
    "accuracy.rmse(predictions)"
   ]
  },
  {
   "cell_type": "code",
   "execution_count": 4,
   "metadata": {},
   "outputs": [
    {
     "name": "stdout",
     "output_type": "stream",
     "text": [
      "RMSE: 1.5640\n",
      "Rmse for 10 factors with 0.01 regesion is 1.5639506166744508\n",
      "RMSE: 1.5478\n",
      "Rmse for 10 factors with 0.02 regesion is 1.5478471384606212\n",
      "RMSE: 1.5339\n",
      "Rmse for 10 factors with 0.05 regesion is 1.5339364091657888\n",
      "RMSE: 1.5320\n",
      "Rmse for 10 factors with 0.1 regesion is 1.532036507342005\n",
      "RMSE: 1.6135\n",
      "Rmse for 50 factors with 0.01 regesion is 1.6134984860809087\n",
      "RMSE: 1.5748\n",
      "Rmse for 50 factors with 0.02 regesion is 1.5747994590649443\n",
      "RMSE: 1.5275\n",
      "Rmse for 50 factors with 0.05 regesion is 1.527503421721313\n",
      "RMSE: 1.5225\n",
      "Rmse for 50 factors with 0.1 regesion is 1.5225197964833335\n",
      "RMSE: 1.6170\n",
      "Rmse for 100 factors with 0.01 regesion is 1.6169584533493377\n",
      "RMSE: 1.5756\n",
      "Rmse for 100 factors with 0.02 regesion is 1.575568782232622\n",
      "RMSE: 1.5233\n",
      "Rmse for 100 factors with 0.05 regesion is 1.5233186643222136\n",
      "RMSE: 1.5205\n",
      "Rmse for 100 factors with 0.1 regesion is 1.5205212004239448\n",
      "RMSE: 1.6106\n",
      "Rmse for 150 factors with 0.01 regesion is 1.6105891839006694\n",
      "RMSE: 1.5682\n",
      "Rmse for 150 factors with 0.02 regesion is 1.5681507118066085\n",
      "RMSE: 1.5217\n",
      "Rmse for 150 factors with 0.05 regesion is 1.5216653460828056\n",
      "RMSE: 1.5197\n",
      "Rmse for 150 factors with 0.1 regesion is 1.5196581308852466\n",
      "RMSE: 1.6028\n",
      "Rmse for 200 factors with 0.01 regesion is 1.6028394990596393\n",
      "RMSE: 1.5636\n",
      "Rmse for 200 factors with 0.02 regesion is 1.5636431930991241\n",
      "RMSE: 1.5194\n",
      "Rmse for 200 factors with 0.05 regesion is 1.5193522236722108\n",
      "RMSE: 1.5178\n",
      "Rmse for 200 factors with 0.1 regesion is 1.5178187544066526\n"
     ]
    }
   ],
   "source": [
    "n_factors_list = [10, 50, 100, 150, 200]  # The number of factors, default value is 100\n",
    "reg_all_list = [\n",
    "    0.01,\n",
    "    0.02,\n",
    "    0.05,\n",
    "    0.1,\n",
    "]  # The regularization term for all params, default value is 0.02\n",
    "\n",
    "n_factors_best = reg_all_best = model_best = None\n",
    "rmse_best = float(\"inf\")\n",
    "rmse_list = []\n",
    "\n",
    "\n",
    "for n_factors, reg_all in itertools.product(n_factors_list, reg_all_list):\n",
    "    algo = SVD(n_factors=n_factors, reg_all=reg_all)\n",
    "    algo.fit(train_set)\n",
    "    predictions = algo.test(validation_set)\n",
    "    \n",
    "    rmse = accuracy.rmse(predictions)\n",
    "    rmse_list.push(rmse)\n",
    "    print(f\"Rmse for {n_factors} factors with {reg_all} regesion is {rmse}\")\n",
    "    if rmse < rmse_best:\n",
    "        n_factors_best, reg_all_best, model_best, rmse_best = n_factors, reg_all, algo, rmse"
   ]
  },
  {
   "cell_type": "code",
   "execution_count": 5,
   "metadata": {},
   "outputs": [],
   "source": [
    "file_name = \"matrix_decomposition_model.pkl\"\n",
    "with open(file_name, \"wb\") as f:\n",
    "    pickle.dump(model_best, f)"
   ]
  },
  {
   "cell_type": "code",
   "execution_count": 6,
   "metadata": {},
   "outputs": [],
   "source": [
    "loaded_model = None\n",
    "\n",
    "with open(file_name, \"rb\") as f:\n",
    "    loaded_model = pickle.load(f)"
   ]
  },
  {
   "cell_type": "code",
   "execution_count": 7,
   "metadata": {},
   "outputs": [
    {
     "name": "stdout",
     "output_type": "stream",
     "text": [
      "RMSE: 1.5178\n"
     ]
    },
    {
     "data": {
      "text/plain": [
       "1.5178187544066526"
      ]
     },
     "execution_count": 7,
     "metadata": {},
     "output_type": "execute_result"
    }
   ],
   "source": [
    "accuracy.rmse(loaded_model.test(validation_set))"
   ]
  },
  {
   "cell_type": "code",
   "execution_count": 8,
   "metadata": {},
   "outputs": [
    {
     "name": "stdout",
     "output_type": "stream",
     "text": [
      "<surprise.prediction_algorithms.matrix_factorization.SVD object at 0x7f778a8db050>\n"
     ]
    }
   ],
   "source": [
    "print(model_best)"
   ]
  },
  {
   "cell_type": "code",
   "execution_count": null,
   "metadata": {},
   "outputs": [],
   "source": []
  }
 ],
 "metadata": {
  "kernelspec": {
   "display_name": "Python 3",
   "language": "python",
   "name": "python3"
  },
  "language_info": {
   "codemirror_mode": {
    "name": "ipython",
    "version": 3
   },
   "file_extension": ".py",
   "mimetype": "text/x-python",
   "name": "python",
   "nbconvert_exporter": "python",
   "pygments_lexer": "ipython3",
   "version": "3.7.6"
  }
 },
 "nbformat": 4,
 "nbformat_minor": 4
}
