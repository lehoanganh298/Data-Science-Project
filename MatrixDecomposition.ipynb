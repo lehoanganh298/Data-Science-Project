{
 "cells": [
  {
   "cell_type": "code",
   "execution_count": 46,
   "metadata": {},
   "outputs": [],
   "source": [
    "import os\n",
    "import itertools\n",
    "import pickle\n",
    "\n",
    "import pandas as pd\n",
    "from surprise import SVD\n",
    "from surprise import Dataset\n",
    "from surprise import accuracy\n",
    "from surprise.model_selection import train_test_split\n",
    "from surprise import Reader"
   ]
  },
  {
   "cell_type": "code",
   "execution_count": 2,
   "metadata": {},
   "outputs": [],
   "source": [
    "# Load the data set from file\n",
    "file_path = os.path.join(\"crawl-ratings\", \"train.csv\")\n",
    "reader = Reader(line_format=\"user item rating\",\n",
    "                sep=\",\",\n",
    "                rating_scale=(1, 10),\n",
    "                skip_lines=1)\n",
    "data = Dataset.load_from_file(file_path, reader=reader)\n",
    "\n",
    "# sample random trainset and validation set\n",
    "# val set is made of 25% of the ratings.\n",
    "train_set, validation_set = train_test_split(data, test_size=0.25, random_state=0)"
   ]
  },
  {
   "cell_type": "code",
   "execution_count": 3,
   "metadata": {},
   "outputs": [
    {
     "name": "stdout",
     "output_type": "stream",
     "text": [
      "Processing epoch 0\n",
      "Processing epoch 1\n",
      "Processing epoch 2\n",
      "Processing epoch 3\n",
      "Processing epoch 4\n",
      "RMSE: 1.5569\n",
      "13.5 s ± 0 ns per loop (mean ± std. dev. of 1 run, 1 loop each)\n"
     ]
    }
   ],
   "source": [
    "%%timeit -n1 -r1\n",
    "\n",
    "# We'll use the famous SVD algorithm.\n",
    "algo = SVD(verbose=True, n_epochs=5)\n",
    "\n",
    "# Train the algorithm on the trainset, and predict ratings for the testset\n",
    "algo.fit(train_set)\n",
    "predictions = algo.test(validation_set)\n",
    "\n",
    "# Then compute RMSE\n",
    "accuracy.rmse(predictions)"
   ]
  },
  {
   "cell_type": "code",
   "execution_count": 4,
   "metadata": {},
   "outputs": [
    {
     "name": "stdout",
     "output_type": "stream",
     "text": [
      "RMSE: 1.5662\n",
      "Rmse for 10 factors with 0.01 regesion is 1.5662058102415837\n",
      "RMSE: 1.5467\n",
      "Rmse for 10 factors with 0.02 regesion is 1.5466890582769512\n",
      "RMSE: 1.5294\n",
      "Rmse for 10 factors with 0.05 regesion is 1.5294474670003726\n",
      "RMSE: 1.5326\n",
      "Rmse for 10 factors with 0.1 regesion is 1.5326316573629475\n",
      "RMSE: 1.6145\n",
      "Rmse for 50 factors with 0.01 regesion is 1.614496881519193\n",
      "RMSE: 1.5767\n",
      "Rmse for 50 factors with 0.02 regesion is 1.5767087967250086\n",
      "RMSE: 1.5265\n",
      "Rmse for 50 factors with 0.05 regesion is 1.526468134266003\n",
      "RMSE: 1.5249\n",
      "Rmse for 50 factors with 0.1 regesion is 1.5248749218540365\n",
      "RMSE: 1.6172\n",
      "Rmse for 100 factors with 0.01 regesion is 1.617223977555844\n",
      "RMSE: 1.5768\n",
      "Rmse for 100 factors with 0.02 regesion is 1.5768020006742227\n",
      "RMSE: 1.5239\n",
      "Rmse for 100 factors with 0.05 regesion is 1.5239266282412918\n",
      "RMSE: 1.5205\n",
      "Rmse for 100 factors with 0.1 regesion is 1.5205153418325743\n",
      "RMSE: 1.6128\n",
      "Rmse for 150 factors with 0.01 regesion is 1.612800238584212\n",
      "RMSE: 1.5703\n",
      "Rmse for 150 factors with 0.02 regesion is 1.5703137033858785\n",
      "RMSE: 1.5228\n",
      "Rmse for 150 factors with 0.05 regesion is 1.5228292715857576\n",
      "RMSE: 1.5199\n",
      "Rmse for 150 factors with 0.1 regesion is 1.5199234338741061\n",
      "RMSE: 1.6063\n",
      "Rmse for 200 factors with 0.01 regesion is 1.6062619826523716\n",
      "RMSE: 1.5670\n",
      "Rmse for 200 factors with 0.02 regesion is 1.567005287860283\n",
      "RMSE: 1.5207\n",
      "Rmse for 200 factors with 0.05 regesion is 1.520709972309281\n",
      "RMSE: 1.5199\n",
      "Rmse for 200 factors with 0.1 regesion is 1.5198517442645045\n"
     ]
    }
   ],
   "source": [
    "n_factors_list = [10, 50, 100, 150,\n",
    "                  200]  # The number of factors, default value is 100\n",
    "reg_all_list = [\n",
    "    0.01,\n",
    "    0.02,\n",
    "    0.05,\n",
    "    0.1,\n",
    "]  # The regularization term for all params, default value is 0.02\n",
    "\n",
    "n_factors_best = reg_all_best = model_best = None\n",
    "rmse_best = float(\"inf\")\n",
    "rmse_list = []\n",
    "\n",
    "for n_factors, reg_all in itertools.product(n_factors_list, reg_all_list):\n",
    "    algo = SVD(n_factors=n_factors, reg_all=reg_all)\n",
    "    algo.fit(train_set)\n",
    "    predictions = algo.test(validation_set)\n",
    "\n",
    "    rmse = accuracy.rmse(predictions)\n",
    "    rmse_list.append(rmse)\n",
    "    print(f\"Rmse for {n_factors} factors with {reg_all} regesion is {rmse}\")\n",
    "    if rmse < rmse_best:\n",
    "        n_factors_best, reg_all_best, model_best, rmse_best = n_factors, reg_all, algo, rmse"
   ]
  },
  {
   "cell_type": "code",
   "execution_count": 5,
   "metadata": {},
   "outputs": [],
   "source": [
    "file_name = \"matrix_decomposition_model.pkl\"\n",
    "with open(file_name, \"wb\") as f:\n",
    "    pickle.dump(model_best, f)"
   ]
  },
  {
   "cell_type": "code",
   "execution_count": 6,
   "metadata": {},
   "outputs": [],
   "source": [
    "loaded_model = None\n",
    "\n",
    "with open(file_name, \"rb\") as f:\n",
    "    loaded_model = pickle.load(f)"
   ]
  },
  {
   "cell_type": "code",
   "execution_count": 7,
   "metadata": {},
   "outputs": [
    {
     "name": "stdout",
     "output_type": "stream",
     "text": [
      "RMSE: 1.5199\n"
     ]
    },
    {
     "data": {
      "text/plain": [
       "1.5198517442645045"
      ]
     },
     "execution_count": 7,
     "metadata": {},
     "output_type": "execute_result"
    }
   ],
   "source": [
    "accuracy.rmse(loaded_model.test(validation_set))"
   ]
  },
  {
   "cell_type": "code",
   "execution_count": 8,
   "metadata": {},
   "outputs": [
    {
     "name": "stdout",
     "output_type": "stream",
     "text": [
      "<surprise.prediction_algorithms.matrix_factorization.SVD object at 0x7fa254be5f10>\n"
     ]
    }
   ],
   "source": [
    "print(model_best)"
   ]
  },
  {
   "cell_type": "code",
   "execution_count": 40,
   "metadata": {},
   "outputs": [],
   "source": [
    "user_rating = Dataset.load_from_file(os.path.join(\"new_user\", \"rating_all.csv\"), reader)\n",
    "all_train_set = user_rating.build_full_trainset()"
   ]
  },
  {
   "cell_type": "code",
   "execution_count": 41,
   "metadata": {},
   "outputs": [
    {
     "data": {
      "text/plain": [
       "<surprise.prediction_algorithms.matrix_factorization.SVD at 0x7fa254be5f10>"
      ]
     },
     "execution_count": 41,
     "metadata": {},
     "output_type": "execute_result"
    }
   ],
   "source": [
    "algo.fit(all_train_set)"
   ]
  },
  {
   "cell_type": "code",
   "execution_count": 44,
   "metadata": {},
   "outputs": [
    {
     "data": {
      "text/plain": [
       "Prediction(uid='ur26266323', iid='tt0310281', r_ui=None, est=7.126198497368478, details={'was_impossible': False})"
      ]
     },
     "execution_count": 44,
     "metadata": {},
     "output_type": "execute_result"
    }
   ],
   "source": [
    "algo.predict(\"ur26266323\",\"tt0310281\")"
   ]
  },
  {
   "cell_type": "code",
   "execution_count": 49,
   "metadata": {},
   "outputs": [],
   "source": [
    "all_movies_df = pd.read_csv(os.path.join(\"crawl-movies-info\", \"movie-idx.csv\"))"
   ]
  },
  {
   "cell_type": "code",
   "execution_count": 50,
   "metadata": {},
   "outputs": [],
   "source": [
    "pred = [algo.predict(\"u0\", movieId) for movieId in all_movies_df[\"MovieID\"]]"
   ]
  },
  {
   "cell_type": "code",
   "execution_count": 65,
   "metadata": {
    "scrolled": true
   },
   "outputs": [],
   "source": [
    "pred.sort(key=lambda x:x.est, reverse=True)"
   ]
  },
  {
   "cell_type": "code",
   "execution_count": 66,
   "metadata": {
    "scrolled": true
   },
   "outputs": [
    {
     "data": {
      "text/plain": [
       "[Prediction(uid='u0', iid='tt2103188', r_ui=None, est=8.794842040254897, details={'was_impossible': False}),\n",
       " Prediction(uid='u0', iid='tt5275892', r_ui=None, est=8.558307170897388, details={'was_impossible': False}),\n",
       " Prediction(uid='u0', iid='tt0397042', r_ui=None, est=8.545421519855788, details={'was_impossible': False}),\n",
       " Prediction(uid='u0', iid='tt0071075', r_ui=None, est=8.51977031660955, details={'was_impossible': False}),\n",
       " Prediction(uid='u0', iid='tt1877514', r_ui=None, est=8.518343533446552, details={'was_impossible': False}),\n",
       " Prediction(uid='u0', iid='tt1568322', r_ui=None, est=8.510734349419534, details={'was_impossible': False}),\n",
       " Prediction(uid='u0', iid='tt1479962', r_ui=None, est=8.50275728962319, details={'was_impossible': False}),\n",
       " Prediction(uid='u0', iid='tt5491994', r_ui=None, est=8.493235941207915, details={'was_impossible': False}),\n",
       " Prediction(uid='u0', iid='tt0081846', r_ui=None, est=8.485882723513075, details={'was_impossible': False}),\n",
       " Prediction(uid='u0', iid='tt2140553', r_ui=None, est=8.47965519672948, details={'was_impossible': False}),\n",
       " Prediction(uid='u0', iid='tt2321297', r_ui=None, est=8.463676041814471, details={'was_impossible': False}),\n",
       " Prediction(uid='u0', iid='tt2395695', r_ui=None, est=8.4630156826663, details={'was_impossible': False}),\n",
       " Prediction(uid='u0', iid='tt0383385', r_ui=None, est=8.455048807669161, details={'was_impossible': False}),\n",
       " Prediction(uid='u0', iid='tt0809488', r_ui=None, est=8.450474702378656, details={'was_impossible': False}),\n",
       " Prediction(uid='u0', iid='tt0084509', r_ui=None, est=8.449427151810683, details={'was_impossible': False}),\n",
       " Prediction(uid='u0', iid='tt0203082', r_ui=None, est=8.435099764000046, details={'was_impossible': False}),\n",
       " Prediction(uid='u0', iid='tt1814884', r_ui=None, est=8.43022486468593, details={'was_impossible': False}),\n",
       " Prediction(uid='u0', iid='tt0802999', r_ui=None, est=8.428577730510096, details={'was_impossible': False}),\n",
       " Prediction(uid='u0', iid='tt0314123', r_ui=None, est=8.421770578202247, details={'was_impossible': False}),\n",
       " Prediction(uid='u0', iid='tt0098769', r_ui=None, est=8.414265398607045, details={'was_impossible': False}),\n",
       " Prediction(uid='u0', iid='tt1127708', r_ui=None, est=8.411743444116407, details={'was_impossible': False}),\n",
       " Prediction(uid='u0', iid='tt0263641', r_ui=None, est=8.398598077987382, details={'was_impossible': False}),\n",
       " Prediction(uid='u0', iid='tt3613974', r_ui=None, est=8.3739301693774, details={'was_impossible': False}),\n",
       " Prediction(uid='u0', iid='tt1540125', r_ui=None, est=8.33705804382019, details={'was_impossible': False}),\n",
       " Prediction(uid='u0', iid='tt0084701', r_ui=None, est=8.326775814877035, details={'was_impossible': False}),\n",
       " Prediction(uid='u0', iid='tt2006890', r_ui=None, est=8.323833095431729, details={'was_impossible': False}),\n",
       " Prediction(uid='u0', iid='tt0111958', r_ui=None, est=8.320479839852922, details={'was_impossible': False}),\n",
       " Prediction(uid='u0', iid='tt0058805', r_ui=None, est=8.314086726578495, details={'was_impossible': False}),\n",
       " Prediction(uid='u0', iid='tt0023251', r_ui=None, est=8.311494031271728, details={'was_impossible': False}),\n",
       " Prediction(uid='u0', iid='tt3561180', r_ui=None, est=8.309850384785795, details={'was_impossible': False}),\n",
       " Prediction(uid='u0', iid='tt0080230', r_ui=None, est=8.306348717025507, details={'was_impossible': False}),\n",
       " Prediction(uid='u0', iid='tt0055353', r_ui=None, est=8.306106393883475, details={'was_impossible': False}),\n",
       " Prediction(uid='u0', iid='tt3400010', r_ui=None, est=8.304476718162707, details={'was_impossible': False}),\n",
       " Prediction(uid='u0', iid='tt0045708', r_ui=None, est=8.302382665624819, details={'was_impossible': False}),\n",
       " Prediction(uid='u0', iid='tt0486673', r_ui=None, est=8.30107823423537, details={'was_impossible': False}),\n",
       " Prediction(uid='u0', iid='tt0199208', r_ui=None, est=8.300890425894368, details={'was_impossible': False}),\n",
       " Prediction(uid='u0', iid='tt0051189', r_ui=None, est=8.298664412926144, details={'was_impossible': False}),\n",
       " Prediction(uid='u0', iid='tt0047281', r_ui=None, est=8.297015711687163, details={'was_impossible': False}),\n",
       " Prediction(uid='u0', iid='tt0149314', r_ui=None, est=8.291162312739235, details={'was_impossible': False}),\n",
       " Prediction(uid='u0', iid='tt6769208', r_ui=None, est=8.287055078559666, details={'was_impossible': False}),\n",
       " Prediction(uid='u0', iid='tt4508902', r_ui=None, est=8.285186423060352, details={'was_impossible': False}),\n",
       " Prediction(uid='u0', iid='tt0053131', r_ui=None, est=8.27510699657831, details={'was_impossible': False}),\n",
       " Prediction(uid='u0', iid='tt5838588', r_ui=None, est=8.273661962589072, details={'was_impossible': False}),\n",
       " Prediction(uid='u0', iid='tt1510985', r_ui=None, est=8.271248871027062, details={'was_impossible': False}),\n",
       " Prediction(uid='u0', iid='tt1648163', r_ui=None, est=8.265713574161914, details={'was_impossible': False}),\n",
       " Prediction(uid='u0', iid='tt2707408', r_ui=None, est=8.264475604742568, details={'was_impossible': False}),\n",
       " Prediction(uid='u0', iid='tt7366338', r_ui=None, est=8.262783228756971, details={'was_impossible': False}),\n",
       " Prediction(uid='u0', iid='tt0068646', r_ui=None, est=8.261218544834104, details={'was_impossible': False}),\n",
       " Prediction(uid='u0', iid='tt8089282', r_ui=None, est=8.259213546277183, details={'was_impossible': False}),\n",
       " Prediction(uid='u0', iid='tt0081834', r_ui=None, est=8.256556658921191, details={'was_impossible': False}),\n",
       " Prediction(uid='u0', iid='tt1349460', r_ui=None, est=8.256248401137594, details={'was_impossible': False}),\n",
       " Prediction(uid='u0', iid='tt1877368', r_ui=None, est=8.252589331760177, details={'was_impossible': False}),\n",
       " Prediction(uid='u0', iid='tt0912593', r_ui=None, est=8.250912351402333, details={'was_impossible': False}),\n",
       " Prediction(uid='u0', iid='tt0221606', r_ui=None, est=8.243286500205569, details={'was_impossible': False}),\n",
       " Prediction(uid='u0', iid='tt0200276', r_ui=None, est=8.239625907520828, details={'was_impossible': False}),\n",
       " Prediction(uid='u0', iid='tt1567215', r_ui=None, est=8.239367493058296, details={'was_impossible': False}),\n",
       " Prediction(uid='u0', iid='tt2303687', r_ui=None, est=8.235353811998271, details={'was_impossible': False}),\n",
       " Prediction(uid='u0', iid='tt0062588', r_ui=None, est=8.232876635177638, details={'was_impossible': False}),\n",
       " Prediction(uid='u0', iid='tt0247882', r_ui=None, est=8.22849777835081, details={'was_impossible': False}),\n",
       " Prediction(uid='u0', iid='tt2802850', r_ui=None, est=8.224478230088389, details={'was_impossible': False}),\n",
       " Prediction(uid='u0', iid='tt0051994', r_ui=None, est=8.224243980844532, details={'was_impossible': False}),\n",
       " Prediction(uid='u0', iid='tt8398600', r_ui=None, est=8.222331343883154, details={'was_impossible': False}),\n",
       " Prediction(uid='u0', iid='tt0084362', r_ui=None, est=8.222184782439578, details={'was_impossible': False}),\n",
       " Prediction(uid='u0', iid='tt7653254', r_ui=None, est=8.220287360921176, details={'was_impossible': False}),\n",
       " Prediction(uid='u0', iid='tt0072500', r_ui=None, est=8.21898904619211, details={'was_impossible': False}),\n",
       " Prediction(uid='u0', iid='tt0054476', r_ui=None, est=8.21734066288352, details={'was_impossible': False}),\n",
       " Prediction(uid='u0', iid='tt0185906', r_ui=None, est=8.216099006281379, details={'was_impossible': False}),\n",
       " Prediction(uid='u0', iid='tt0111893', r_ui=None, est=8.2116560351614, details={'was_impossible': False}),\n",
       " Prediction(uid='u0', iid='tt0944947', r_ui=None, est=8.20660071173698, details={'was_impossible': False}),\n",
       " Prediction(uid='u0', iid='tt6019206', r_ui=None, est=8.206587454474363, details={'was_impossible': False}),\n",
       " Prediction(uid='u0', iid='tt1839558', r_ui=None, est=8.206553014025626, details={'was_impossible': False}),\n",
       " Prediction(uid='u0', iid='tt0296310', r_ui=None, est=8.20618134361409, details={'was_impossible': False}),\n",
       " Prediction(uid='u0', iid='tt9253866', r_ui=None, est=8.20511538109148, details={'was_impossible': False}),\n",
       " Prediction(uid='u0', iid='tt0096657', r_ui=None, est=8.204781946680436, details={'was_impossible': False}),\n",
       " Prediction(uid='u0', iid='tt0043313', r_ui=None, est=8.202709956720557, details={'was_impossible': False}),\n",
       " Prediction(uid='u0', iid='tt0120737', r_ui=None, est=8.202690286538536, details={'was_impossible': False}),\n",
       " Prediction(uid='u0', iid='tt0244316', r_ui=None, est=8.200787190665778, details={'was_impossible': False}),\n",
       " Prediction(uid='u0', iid='tt0050083', r_ui=None, est=8.200354073273564, details={'was_impossible': False}),\n",
       " Prediction(uid='u0', iid='tt0088727', r_ui=None, est=8.196117269752293, details={'was_impossible': False}),\n",
       " Prediction(uid='u0', iid='tt0167260', r_ui=None, est=8.182587442745994, details={'was_impossible': False}),\n",
       " Prediction(uid='u0', iid='tt0374692', r_ui=None, est=8.1825471209771, details={'was_impossible': False}),\n",
       " Prediction(uid='u0', iid='tt0284110', r_ui=None, est=8.181891464188837, details={'was_impossible': False}),\n",
       " Prediction(uid='u0', iid='tt0247380', r_ui=None, est=8.18014585097571, details={'was_impossible': False}),\n",
       " Prediction(uid='u0', iid='tt0059894', r_ui=None, est=8.177946589579719, details={'was_impossible': False}),\n",
       " Prediction(uid='u0', iid='tt0074048', r_ui=None, est=8.176699525024086, details={'was_impossible': False}),\n",
       " Prediction(uid='u0', iid='tt2125608', r_ui=None, est=8.175221235495725, details={'was_impossible': False}),\n",
       " Prediction(uid='u0', iid='tt3530232', r_ui=None, est=8.175181867600857, details={'was_impossible': False}),\n",
       " Prediction(uid='u0', iid='tt0043459', r_ui=None, est=8.173374129646993, details={'was_impossible': False}),\n",
       " Prediction(uid='u0', iid='tt4412754', r_ui=None, est=8.17068505865582, details={'was_impossible': False}),\n",
       " Prediction(uid='u0', iid='tt6466208', r_ui=None, est=8.169959237850817, details={'was_impossible': False}),\n",
       " Prediction(uid='u0', iid='tt0053115', r_ui=None, est=8.168274455969733, details={'was_impossible': False}),\n",
       " Prediction(uid='u0', iid='tt0075561', r_ui=None, est=8.162638922851354, details={'was_impossible': False}),\n",
       " Prediction(uid='u0', iid='tt7889220', r_ui=None, est=8.161021918157987, details={'was_impossible': False}),\n",
       " Prediction(uid='u0', iid='tt0050870', r_ui=None, est=8.15987823072759, details={'was_impossible': False}),\n",
       " Prediction(uid='u0', iid='tt0098878', r_ui=None, est=8.157483045353422, details={'was_impossible': False}),\n",
       " Prediction(uid='u0', iid='tt0048434', r_ui=None, est=8.156840274327976, details={'was_impossible': False}),\n",
       " Prediction(uid='u0', iid='tt0055892', r_ui=None, est=8.153443829997633, details={'was_impossible': False}),\n",
       " Prediction(uid='u0', iid='tt2331143', r_ui=None, est=8.153088222912906, details={'was_impossible': False}),\n",
       " Prediction(uid='u0', iid='tt0071143', r_ui=None, est=8.148808195270853, details={'was_impossible': False}),\n",
       " Prediction(uid='u0', iid='tt0458254', r_ui=None, est=8.147757613985123, details={'was_impossible': False})]"
      ]
     },
     "execution_count": 66,
     "metadata": {},
     "output_type": "execute_result"
    }
   ],
   "source": [
    "pred[:100]"
   ]
  },
  {
   "cell_type": "code",
   "execution_count": null,
   "metadata": {},
   "outputs": [],
   "source": []
  }
 ],
 "metadata": {
  "kernelspec": {
   "display_name": "Python 3",
   "language": "python",
   "name": "python3"
  },
  "language_info": {
   "codemirror_mode": {
    "name": "ipython",
    "version": 3
   },
   "file_extension": ".py",
   "mimetype": "text/x-python",
   "name": "python",
   "nbconvert_exporter": "python",
   "pygments_lexer": "ipython3",
   "version": "3.7.6"
  }
 },
 "nbformat": 4,
 "nbformat_minor": 4
}
