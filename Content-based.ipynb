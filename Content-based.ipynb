{
 "cells": [
  {
   "cell_type": "code",
   "execution_count": 1,
   "metadata": {},
   "outputs": [],
   "source": [
    "import pandas as pd"
   ]
  },
  {
   "cell_type": "code",
   "execution_count": 2,
   "metadata": {},
   "outputs": [],
   "source": [
    "df = pd.read_csv('crawl-movies-info/movies-info.csv')"
   ]
  },
  {
   "cell_type": "code",
   "execution_count": 14,
   "metadata": {},
   "outputs": [
    {
     "data": {
      "text/plain": [
       "array([['tt1462758', 0, 0, ..., 1, 0, 0],\n",
       "       ['tt6491178', 1, 0, ..., 1, 0, 0],\n",
       "       ['tt2872732', 1, 0, ..., 1, 0, 0],\n",
       "       ...,\n",
       "       ['tt3797766', 0, 0, ..., 0, 0, 0],\n",
       "       ['tt0164279', 0, 0, ..., 0, 0, 0],\n",
       "       ['tt1723073', 0, 0, ..., 0, 0, 0]], dtype=object)"
      ]
     },
     "execution_count": 14,
     "metadata": {},
     "output_type": "execute_result"
    }
   ],
   "source": [
    "df.values"
   ]
  },
  {
   "cell_type": "code",
   "execution_count": 11,
   "metadata": {},
   "outputs": [],
   "source": [
    "from sklearn.feature_extraction.text import TfidfTransformer\n",
    "transformer = TfidfTransformer(smooth_idf=True, norm ='l2')\n",
    "tfidf = transformer.fit_transform(df.values[:,1:].tolist()).toarray()"
   ]
  },
  {
   "cell_type": "code",
   "execution_count": null,
   "metadata": {},
   "outputs": [],
   "source": [
    "import numpy as np\n",
    "def get_items_rated_by_user(rate_matrix, user_id):\n",
    "    \"\"\"\n",
    "    in each line of rate_matrix, we have infor: user_id, item_id, rating (scores), time_stamp\n",
    "    we care about the first three values\n",
    "    return (item_ids, scores) rated by user user_id\n",
    "    \"\"\"\n",
    "    y = rate_matrix[:,0] # all users\n",
    "    # item indices rated by user_id\n",
    "    # we need to +1 to user_id since in the rate_matrix, id starts from 1 \n",
    "    # while index in python starts from 0\n",
    "    ids = np.where(y == user_id +1)[0] \n",
    "    item_ids = rate_matrix[ids, 1] - 1 # index starts from 0 \n",
    "    scores = rate_matrix[ids, 2]\n",
    "    return (item_ids, scores)"
   ]
  },
  {
   "cell_type": "code",
   "execution_count": 36,
   "metadata": {},
   "outputs": [],
   "source": [
    "import numpy as np\n",
    "from sklearn.linear_model import Ridge\n",
    "from sklearn import linear_model\n",
    " \n",
    "def predict_rating(movie_ids, scores,alpha=0.01):\n",
    "    clf = Ridge(alpha=alpha, fit_intercept  = True)\n",
    "    Xhat = tfidf[movie_ids, :]\n",
    "    \n",
    "    clf.fit(Xhat, scores)\n",
    "    W = clf.coef_\n",
    "    b = clf.intercept_\n",
    "    rating = tfidf.dot(W) + b\n",
    "    return rating"
   ]
  },
  {
   "cell_type": "code",
   "execution_count": 21,
   "metadata": {},
   "outputs": [
    {
     "data": {
      "text/plain": [
       "array([3.67794815, 1.08623024, 2.98916455, ..., 4.63962796, 4.63962796,\n",
       "       4.63962796])"
      ]
     },
     "execution_count": 21,
     "metadata": {},
     "output_type": "execute_result"
    }
   ],
   "source": [
    "movie_ids=np.array([1,2,3,4,5,6])\n",
    "scores=np.array([1.0,3.0,5.0,6.0,2.0,8.0])\n",
    "predict_rating(movie_ids,scores)"
   ]
  },
  {
   "cell_type": "code",
   "execution_count": 37,
   "metadata": {},
   "outputs": [],
   "source": [
    "# calculate all predicting in training set\n",
    "train_df = pd.read_csv('crawl-ratings/train_ids.csv')\n",
    "test_df = pd.read_csv('crawl-ratings/train_ids.csv')\n",
    "SE=0\n",
    "\n",
    "for user in train_df.UserIndex.unique():\n",
    "    train_rating = train_df[train_df.UserIndex==user]\n",
    "    predict = predict_rating(train_rating.MovieIndex.values,train_rating.Rating.values)\n",
    "    \n",
    "    test_rating = test_df[test_df.UserIndex==user]\n",
    "    SE += np.sum((test_rating.Rating - predict[test_rating.MovieIndex.values])**2)"
   ]
  },
  {
   "cell_type": "code",
   "execution_count": 39,
   "metadata": {},
   "outputs": [
    {
     "data": {
      "text/plain": [
       "1.7851635088044007"
      ]
     },
     "execution_count": 39,
     "metadata": {},
     "output_type": "execute_result"
    }
   ],
   "source": [
    "RMSE = np.sqrt(SE/test_df.shape[0])\n",
    "RMSE"
   ]
  }
 ],
 "metadata": {
  "kernelspec": {
   "display_name": "Python 3",
   "language": "python",
   "name": "python3"
  },
  "language_info": {
   "codemirror_mode": {
    "name": "ipython",
    "version": 3
   },
   "file_extension": ".py",
   "mimetype": "text/x-python",
   "name": "python",
   "nbconvert_exporter": "python",
   "pygments_lexer": "ipython3",
   "version": "3.7.3"
  }
 },
 "nbformat": 4,
 "nbformat_minor": 4
}
