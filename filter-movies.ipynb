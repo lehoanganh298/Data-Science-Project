{
 "cells": [
  {
   "cell_type": "markdown",
   "metadata": {
    "toc-hr-collapsed": false
   },
   "source": [
    "## Filter out movies with too few ratings"
   ]
  },
  {
   "cell_type": "code",
   "execution_count": 1,
   "metadata": {},
   "outputs": [],
   "source": [
    "import pandas as pd\n",
    "import glob\n",
    "%matplotlib inline"
   ]
  },
  {
   "cell_type": "markdown",
   "metadata": {},
   "source": [
    "### Concat to 1 df"
   ]
  },
  {
   "cell_type": "code",
   "execution_count": 2,
   "metadata": {},
   "outputs": [],
   "source": [
    "df_rating = []\n",
    "for file in glob.glob(\"crawl-ratings/*00.csv\"):\n",
    "    df_rating.append(pd.read_csv(file))"
   ]
  },
  {
   "cell_type": "code",
   "execution_count": 3,
   "metadata": {},
   "outputs": [],
   "source": [
    "df_rating = pd.concat(df_rating)"
   ]
  },
  {
   "cell_type": "code",
   "execution_count": 4,
   "metadata": {},
   "outputs": [
    {
     "data": {
      "text/html": [
       "<div>\n",
       "<style scoped>\n",
       "    .dataframe tbody tr th:only-of-type {\n",
       "        vertical-align: middle;\n",
       "    }\n",
       "\n",
       "    .dataframe tbody tr th {\n",
       "        vertical-align: top;\n",
       "    }\n",
       "\n",
       "    .dataframe thead th {\n",
       "        text-align: right;\n",
       "    }\n",
       "</style>\n",
       "<table border=\"1\" class=\"dataframe\">\n",
       "  <thead>\n",
       "    <tr style=\"text-align: right;\">\n",
       "      <th></th>\n",
       "      <th>UserID</th>\n",
       "      <th>MovieID</th>\n",
       "      <th>Rating</th>\n",
       "    </tr>\n",
       "  </thead>\n",
       "  <tbody>\n",
       "    <tr>\n",
       "      <th>0</th>\n",
       "      <td>ur66355076</td>\n",
       "      <td>tt3501632</td>\n",
       "      <td>7</td>\n",
       "    </tr>\n",
       "    <tr>\n",
       "      <th>1</th>\n",
       "      <td>ur66355076</td>\n",
       "      <td>tt5776858</td>\n",
       "      <td>8</td>\n",
       "    </tr>\n",
       "    <tr>\n",
       "      <th>2</th>\n",
       "      <td>ur66355076</td>\n",
       "      <td>tt2543164</td>\n",
       "      <td>9</td>\n",
       "    </tr>\n",
       "    <tr>\n",
       "      <th>3</th>\n",
       "      <td>ur66355076</td>\n",
       "      <td>tt1856101</td>\n",
       "      <td>8</td>\n",
       "    </tr>\n",
       "    <tr>\n",
       "      <th>4</th>\n",
       "      <td>ur66355076</td>\n",
       "      <td>tt1825683</td>\n",
       "      <td>9</td>\n",
       "    </tr>\n",
       "    <tr>\n",
       "      <th>...</th>\n",
       "      <td>...</td>\n",
       "      <td>...</td>\n",
       "      <td>...</td>\n",
       "    </tr>\n",
       "    <tr>\n",
       "      <th>182881</th>\n",
       "      <td>ur3032357</td>\n",
       "      <td>tt0120685</td>\n",
       "      <td>4</td>\n",
       "    </tr>\n",
       "    <tr>\n",
       "      <th>182882</th>\n",
       "      <td>ur3032357</td>\n",
       "      <td>tt0145681</td>\n",
       "      <td>7</td>\n",
       "    </tr>\n",
       "    <tr>\n",
       "      <th>182883</th>\n",
       "      <td>ur3032357</td>\n",
       "      <td>tt0075148</td>\n",
       "      <td>9</td>\n",
       "    </tr>\n",
       "    <tr>\n",
       "      <th>182884</th>\n",
       "      <td>ur3032357</td>\n",
       "      <td>tt0088763</td>\n",
       "      <td>8</td>\n",
       "    </tr>\n",
       "    <tr>\n",
       "      <th>182885</th>\n",
       "      <td>ur3032357</td>\n",
       "      <td>tt0082198</td>\n",
       "      <td>8</td>\n",
       "    </tr>\n",
       "  </tbody>\n",
       "</table>\n",
       "<p>1626980 rows × 3 columns</p>\n",
       "</div>"
      ],
      "text/plain": [
       "            UserID    MovieID  Rating \n",
       "0       ur66355076  tt3501632        7\n",
       "1       ur66355076  tt5776858        8\n",
       "2       ur66355076  tt2543164        9\n",
       "3       ur66355076  tt1856101        8\n",
       "4       ur66355076  tt1825683        9\n",
       "...            ...        ...      ...\n",
       "182881   ur3032357  tt0120685        4\n",
       "182882   ur3032357  tt0145681        7\n",
       "182883   ur3032357  tt0075148        9\n",
       "182884   ur3032357  tt0088763        8\n",
       "182885   ur3032357  tt0082198        8\n",
       "\n",
       "[1626980 rows x 3 columns]"
      ]
     },
     "execution_count": 4,
     "metadata": {},
     "output_type": "execute_result"
    }
   ],
   "source": [
    "df_rating"
   ]
  },
  {
   "cell_type": "code",
   "execution_count": 5,
   "metadata": {},
   "outputs": [],
   "source": [
    "movie_stat = df_rating['MovieID'].value_counts()"
   ]
  },
  {
   "cell_type": "markdown",
   "metadata": {},
   "source": [
    "### Some stats"
   ]
  },
  {
   "cell_type": "code",
   "execution_count": 6,
   "metadata": {},
   "outputs": [
    {
     "name": "stdout",
     "output_type": "stream",
     "text": [
      "1626980\n",
      "1464738\n",
      "162242\n"
     ]
    }
   ],
   "source": [
    "print(movie_stat.sum())\n",
    "print(movie_stat[movie_stat>=5].sum())\n",
    "print(movie_stat[movie_stat<5].sum())"
   ]
  },
  {
   "cell_type": "code",
   "execution_count": 7,
   "metadata": {},
   "outputs": [
    {
     "name": "stdout",
     "output_type": "stream",
     "text": [
      "1626980\n",
      "1361252\n",
      "265728\n"
     ]
    }
   ],
   "source": [
    "print(movie_stat.sum())\n",
    "print(movie_stat[movie_stat>=10].sum())\n",
    "print(movie_stat[movie_stat<10].sum())"
   ]
  },
  {
   "cell_type": "code",
   "execution_count": 8,
   "metadata": {},
   "outputs": [
    {
     "name": "stdout",
     "output_type": "stream",
     "text": [
      "15844\n",
      "22874\n",
      "137775\n"
     ]
    }
   ],
   "source": [
    "print(movie_stat.value_counts()[4:9].sum())\n",
    "print(movie_stat.value_counts()[9:].sum())\n",
    "print(movie_stat.value_counts().sum())"
   ]
  },
  {
   "cell_type": "code",
   "execution_count": 9,
   "metadata": {},
   "outputs": [
    {
     "data": {
      "text/plain": [
       "<matplotlib.axes._subplots.AxesSubplot at 0x7f7494679350>"
      ]
     },
     "execution_count": 9,
     "metadata": {},
     "output_type": "execute_result"
    },
    {
     "data": {
      "image/png": "[encoded data removed]",
      "text/plain": [
       "<Figure size 432x288 with 1 Axes>"
      ]
     },
     "metadata": {
      "needs_background": "light"
     },
     "output_type": "display_data"
    }
   ],
   "source": [
    "movie_stat.value_counts()[:20].plot.bar()"
   ]
  },
  {
   "cell_type": "markdown",
   "metadata": {},
   "source": [
    "### Filter with threshold"
   ]
  },
  {
   "cell_type": "code",
   "execution_count": 10,
   "metadata": {},
   "outputs": [],
   "source": [
    "threshold=5"
   ]
  },
  {
   "cell_type": "code",
   "execution_count": 11,
   "metadata": {},
   "outputs": [],
   "source": [
    "df_rating_filtered = df_rating[df_rating.MovieID.isin(movie_stat[movie_stat>=threshold].index)]"
   ]
  },
  {
   "cell_type": "code",
   "execution_count": 12,
   "metadata": {},
   "outputs": [
    {
     "data": {
      "text/plain": [
       "tt0096697    5929\n",
       "tt0944947    3676\n",
       "tt0108778    3239\n",
       "tt0052520    2891\n",
       "tt0903747    2409\n",
       "             ... \n",
       "tt0439707       5\n",
       "tt0079803       5\n",
       "tt0387887       5\n",
       "tt7853068       5\n",
       "tt0037662       5\n",
       "Name: MovieID, Length: 38718, dtype: int64"
      ]
     },
     "execution_count": 12,
     "metadata": {},
     "output_type": "execute_result"
    }
   ],
   "source": [
    "df_rating_filtered['MovieID'].value_counts()"
   ]
  },
  {
   "cell_type": "code",
   "execution_count": 13,
   "metadata": {},
   "outputs": [
    {
     "data": {
      "text/plain": [
       "ur19009969     18019\n",
       "ur3032357      16635\n",
       "ur2467618      15745\n",
       "ur1896124      13019\n",
       "ur2483625      12834\n",
       "               ...  \n",
       "ur46768703        91\n",
       "ur108071848       86\n",
       "ur94875269        85\n",
       "ur14330747        61\n",
       "ur92127176        59\n",
       "Name: UserID, Length: 1105, dtype: int64"
      ]
     },
     "execution_count": 13,
     "metadata": {},
     "output_type": "execute_result"
    }
   ],
   "source": [
    "df_rating_filtered['UserID'].value_counts()"
   ]
  },
  {
   "cell_type": "code",
   "execution_count": 17,
   "metadata": {},
   "outputs": [],
   "source": [
    "df_rating_filtered.to_csv('crawl-ratings/rating-filtered.csv', index=False)"
   ]
  }
 ],
 "metadata": {
  "kernelspec": {
   "display_name": "Python 3",
   "language": "python",
   "name": "python3"
  },
  "language_info": {
   "codemirror_mode": {
    "name": "ipython",
    "version": 3
   },
   "file_extension": ".py",
   "mimetype": "text/x-python",
   "name": "python",
   "nbconvert_exporter": "python",
   "pygments_lexer": "ipython3",
   "version": "3.7.6"
  }
 },
 "nbformat": 4,
 "nbformat_minor": 4
}
