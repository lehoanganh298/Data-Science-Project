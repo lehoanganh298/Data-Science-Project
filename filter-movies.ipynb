{
 "cells": [
  {
   "cell_type": "markdown",
   "metadata": {
    "toc-hr-collapsed": false
   },
   "source": [
    "## Filter out movies with too few ratings"
   ]
  },
  {
   "cell_type": "code",
   "execution_count": 1,
   "metadata": {},
   "outputs": [],
   "source": [
    "import pandas as pd\n",
    "import glob\n",
    "%matplotlib inline"
   ]
  },
  {
   "cell_type": "markdown",
   "metadata": {},
   "source": [
    "### Concat to 1 df"
   ]
  },
  {
   "cell_type": "code",
   "execution_count": 77,
   "metadata": {},
   "outputs": [],
   "source": [
    "df_rating = []\n",
    "for file in glob.glob(\"crawl-ratings/*.csv\"):\n",
    "    df_rating.append(pd.read_csv(file))"
   ]
  },
  {
   "cell_type": "code",
   "execution_count": 78,
   "metadata": {},
   "outputs": [],
   "source": [
    "df_rating = pd.concat(df_rating)"
   ]
  },
  {
   "cell_type": "code",
   "execution_count": 79,
   "metadata": {},
   "outputs": [
    {
     "data": {
      "text/html": [
       "<div>\n",
       "<style scoped>\n",
       "    .dataframe tbody tr th:only-of-type {\n",
       "        vertical-align: middle;\n",
       "    }\n",
       "\n",
       "    .dataframe tbody tr th {\n",
       "        vertical-align: top;\n",
       "    }\n",
       "\n",
       "    .dataframe thead th {\n",
       "        text-align: right;\n",
       "    }\n",
       "</style>\n",
       "<table border=\"1\" class=\"dataframe\">\n",
       "  <thead>\n",
       "    <tr style=\"text-align: right;\">\n",
       "      <th></th>\n",
       "      <th>UserID</th>\n",
       "      <th>MovieID</th>\n",
       "      <th>Rating</th>\n",
       "    </tr>\n",
       "  </thead>\n",
       "  <tbody>\n",
       "    <tr>\n",
       "      <td>0</td>\n",
       "      <td>ur31518873</td>\n",
       "      <td>tt1298650</td>\n",
       "      <td>6</td>\n",
       "    </tr>\n",
       "    <tr>\n",
       "      <td>1</td>\n",
       "      <td>ur31518873</td>\n",
       "      <td>tt0099685</td>\n",
       "      <td>7</td>\n",
       "    </tr>\n",
       "    <tr>\n",
       "      <td>2</td>\n",
       "      <td>ur31518873</td>\n",
       "      <td>tt0268978</td>\n",
       "      <td>8</td>\n",
       "    </tr>\n",
       "    <tr>\n",
       "      <td>3</td>\n",
       "      <td>ur31518873</td>\n",
       "      <td>tt0097576</td>\n",
       "      <td>7</td>\n",
       "    </tr>\n",
       "    <tr>\n",
       "      <td>4</td>\n",
       "      <td>ur31518873</td>\n",
       "      <td>tt0368891</td>\n",
       "      <td>6</td>\n",
       "    </tr>\n",
       "    <tr>\n",
       "      <td>...</td>\n",
       "      <td>...</td>\n",
       "      <td>...</td>\n",
       "      <td>...</td>\n",
       "    </tr>\n",
       "    <tr>\n",
       "      <td>925141</td>\n",
       "      <td>ur2467618</td>\n",
       "      <td>tt0113492</td>\n",
       "      <td>6</td>\n",
       "    </tr>\n",
       "    <tr>\n",
       "      <td>925142</td>\n",
       "      <td>ur2467618</td>\n",
       "      <td>tt0073631</td>\n",
       "      <td>10</td>\n",
       "    </tr>\n",
       "    <tr>\n",
       "      <td>925143</td>\n",
       "      <td>ur2467618</td>\n",
       "      <td>tt0199683</td>\n",
       "      <td>6</td>\n",
       "    </tr>\n",
       "    <tr>\n",
       "      <td>925144</td>\n",
       "      <td>ur2467618</td>\n",
       "      <td>tt0170016</td>\n",
       "      <td>1</td>\n",
       "    </tr>\n",
       "    <tr>\n",
       "      <td>925145</td>\n",
       "      <td>ur2467618</td>\n",
       "      <td>tt0092603</td>\n",
       "      <td>10</td>\n",
       "    </tr>\n",
       "  </tbody>\n",
       "</table>\n",
       "<p>1626980 rows × 3 columns</p>\n",
       "</div>"
      ],
      "text/plain": [
       "            UserID    MovieID  Rating \n",
       "0       ur31518873  tt1298650        6\n",
       "1       ur31518873  tt0099685        7\n",
       "2       ur31518873  tt0268978        8\n",
       "3       ur31518873  tt0097576        7\n",
       "4       ur31518873  tt0368891        6\n",
       "...            ...        ...      ...\n",
       "925141   ur2467618  tt0113492        6\n",
       "925142   ur2467618  tt0073631       10\n",
       "925143   ur2467618  tt0199683        6\n",
       "925144   ur2467618  tt0170016        1\n",
       "925145   ur2467618  tt0092603       10\n",
       "\n",
       "[1626980 rows x 3 columns]"
      ]
     },
     "execution_count": 79,
     "metadata": {},
     "output_type": "execute_result"
    }
   ],
   "source": [
    "df_rating"
   ]
  },
  {
   "cell_type": "code",
   "execution_count": 95,
   "metadata": {},
   "outputs": [],
   "source": [
    "movie_stat = df_rating['MovieID'].value_counts()"
   ]
  },
  {
   "cell_type": "markdown",
   "metadata": {},
   "source": [
    "### Some stats"
   ]
  },
  {
   "cell_type": "code",
   "execution_count": 56,
   "metadata": {},
   "outputs": [
    {
     "name": "stdout",
     "output_type": "stream",
     "text": [
      "1626980\n",
      "1464738\n",
      "162242\n"
     ]
    }
   ],
   "source": [
    "print(movie_stat.sum())\n",
    "print(movie_stat[movie_stat>=5].sum())\n",
    "print(movie_stat[movie_stat<5].sum())"
   ]
  },
  {
   "cell_type": "code",
   "execution_count": 101,
   "metadata": {},
   "outputs": [
    {
     "name": "stdout",
     "output_type": "stream",
     "text": [
      "1626980\n",
      "1022534\n",
      "265728\n"
     ]
    }
   ],
   "source": [
    "print(movie_stat.sum())\n",
    "print(movie_stat[movie_stat>=50].sum())\n",
    "print(movie_stat[movie_stat<10].sum())"
   ]
  },
  {
   "cell_type": "code",
   "execution_count": 102,
   "metadata": {},
   "outputs": [
    {
     "name": "stdout",
     "output_type": "stream",
     "text": [
      "15844\n",
      "22874\n",
      "6369\n",
      "137775\n"
     ]
    }
   ],
   "source": [
    "print(movie_stat.value_counts()[4:9].sum())\n",
    "print(movie_stat.value_counts()[9:].sum())\n",
    "print(movie_stat.value_counts()[50:].sum())\n",
    "print(movie_stat.value_counts().sum())"
   ]
  },
  {
   "cell_type": "code",
   "execution_count": 44,
   "metadata": {},
   "outputs": [
    {
     "data": {
      "text/plain": [
       "<matplotlib.axes._subplots.AxesSubplot at 0x144c3f69d68>"
      ]
     },
     "execution_count": 44,
     "metadata": {},
     "output_type": "execute_result"
    },
    {
     "data": {
      "image/png": "[encoded data removed]",
      "text/plain": [
       "<Figure size 432x288 with 1 Axes>"
      ]
     },
     "metadata": {
      "needs_background": "light"
     },
     "output_type": "display_data"
    }
   ],
   "source": [
    "movie_stat.value_counts()[:20].plot.bar()"
   ]
  },
  {
   "cell_type": "markdown",
   "metadata": {},
   "source": [
    "### Filter with threshold"
   ]
  },
  {
   "cell_type": "code",
   "execution_count": 84,
   "metadata": {},
   "outputs": [],
   "source": [
    "threshold=5"
   ]
  },
  {
   "cell_type": "code",
   "execution_count": 92,
   "metadata": {},
   "outputs": [],
   "source": [
    "df_rating_filtered = df_rating[df_rating.MovieID.isin(movie_stat[movie_stat>=threshold].index)]"
   ]
  },
  {
   "cell_type": "code",
   "execution_count": 96,
   "metadata": {},
   "outputs": [
    {
     "data": {
      "text/plain": [
       "tt0096697    5929\n",
       "tt0944947    3676\n",
       "tt0108778    3239\n",
       "tt0052520    2891\n",
       "tt0903747    2409\n",
       "             ... \n",
       "tt1078933       5\n",
       "tt0362942       5\n",
       "tt0065105       5\n",
       "tt0023677       5\n",
       "tt0112619       5\n",
       "Name: MovieID, Length: 38718, dtype: int64"
      ]
     },
     "execution_count": 96,
     "metadata": {},
     "output_type": "execute_result"
    }
   ],
   "source": [
    "df_rating_filtered['MovieID'].value_counts()"
   ]
  },
  {
   "cell_type": "code",
   "execution_count": 114,
   "metadata": {},
   "outputs": [
    {
     "data": {
      "text/plain": [
       "ur103317327    103\n",
       "ur61423863     102\n",
       "ur32915980     101\n",
       "ur49236468     101\n",
       "ur5411269      100\n",
       "ur82903451      99\n",
       "ur22999317      99\n",
       "ur62942093      99\n",
       "ur106224983     94\n",
       "ur40049808      93\n",
       "ur46768703      91\n",
       "ur108071848     86\n",
       "ur94875269      85\n",
       "ur14330747      61\n",
       "ur92127176      59\n",
       "Name: UserID, dtype: int64"
      ]
     },
     "execution_count": 114,
     "metadata": {},
     "output_type": "execute_result"
    }
   ],
   "source": [
    "df_rating_filtered['UserID'].value_counts()[-15:]"
   ]
  },
  {
   "cell_type": "code",
   "execution_count": 98,
   "metadata": {},
   "outputs": [],
   "source": [
    "df_rating_filtered.to_csv('crawl-ratings/rating-filtered.csv')"
   ]
  },
  {
   "cell_type": "code",
   "execution_count": 108,
   "metadata": {},
   "outputs": [],
   "source": [
    "# Other threshold\n",
    "threshold=30"
   ]
  },
  {
   "cell_type": "code",
   "execution_count": 109,
   "metadata": {},
   "outputs": [],
   "source": [
    "df_rating_filtered_50 = df_rating[df_rating.MovieID.isin(movie_stat[movie_stat>=threshold].index)]"
   ]
  },
  {
   "cell_type": "code",
   "execution_count": 110,
   "metadata": {},
   "outputs": [
    {
     "data": {
      "text/plain": [
       "tt0096697    5929\n",
       "tt0944947    3676\n",
       "tt0108778    3239\n",
       "tt0052520    2891\n",
       "tt0903747    2409\n",
       "             ... \n",
       "tt5316540      30\n",
       "tt0062861      30\n",
       "tt2203308      30\n",
       "tt0037615      30\n",
       "tt5278426      30\n",
       "Name: MovieID, Length: 9748, dtype: int64"
      ]
     },
     "execution_count": 110,
     "metadata": {},
     "output_type": "execute_result"
    }
   ],
   "source": [
    "df_rating_filtered_50['MovieID'].value_counts()"
   ]
  },
  {
   "cell_type": "code",
   "execution_count": 111,
   "metadata": {},
   "outputs": [
    {
     "data": {
      "text/plain": [
       "ur19009969    15934\n",
       "ur3032357     15158\n",
       "ur34575093     9429\n",
       "ur23172671     9350\n",
       "ur28967391     9329\n",
       "              ...  \n",
       "ur13588546       49\n",
       "ur11983563       46\n",
       "ur92127176       40\n",
       "ur53825238       30\n",
       "ur14330747       25\n",
       "Name: UserID, Length: 1105, dtype: int64"
      ]
     },
     "execution_count": 111,
     "metadata": {},
     "output_type": "execute_result"
    }
   ],
   "source": [
    "df_rating_filtered_50['UserID'].value_counts()"
   ]
  },
  {
   "cell_type": "markdown",
   "metadata": {},
   "source": [
    "## Split train-test"
   ]
  },
  {
   "cell_type": "code",
   "execution_count": 2,
   "metadata": {},
   "outputs": [],
   "source": [
    "df = pd.read_csv('crawl-ratings/rating-filtered.csv')"
   ]
  },
  {
   "cell_type": "code",
   "execution_count": 6,
   "metadata": {},
   "outputs": [],
   "source": [
    "user_list = df.UserID.unique()"
   ]
  },
  {
   "cell_type": "code",
   "execution_count": 10,
   "metadata": {},
   "outputs": [
    {
     "name": "stdout",
     "output_type": "stream",
     "text": [
      "................................................................................................................................................................................................................................................................................................................................................................................................................................................................................................................................................................................................................................................................................................................................................................................................................................................................................................................................................................................................................................................................................................................................................."
     ]
    }
   ],
   "source": [
    "train_list=[]\n",
    "test_list=[]\n",
    "test_rating_per_user=20\n",
    "for user in user_list:\n",
    "    user_rating = df[df.UserID == user]\n",
    "    user_test = user_rating.sample(n=test_rating_per_user,random_state=0)\n",
    "    test_list.append(user_test)\n",
    "    train_list.append(user_rating.drop(user_test.index))\n",
    "    print('.',end='')\n",
    "train_df = pd.concat(train_list)\n",
    "test_df = pd.concat(test_list)"
   ]
  },
  {
   "cell_type": "code",
   "execution_count": 16,
   "metadata": {},
   "outputs": [
    {
     "data": {
      "text/plain": [
       "ur35000509    20\n",
       "ur6918917     20\n",
       "ur82535306    20\n",
       "ur50335266    20\n",
       "ur10115534    20\n",
       "              ..\n",
       "ur66601046    20\n",
       "ur94875269    20\n",
       "ur0568099     20\n",
       "ur19998007    20\n",
       "ur61466300    20\n",
       "Name: UserID, Length: 1105, dtype: int64"
      ]
     },
     "execution_count": 16,
     "metadata": {},
     "output_type": "execute_result"
    }
   ],
   "source": [
    "test_df.UserID.value_counts()"
   ]
  },
  {
   "cell_type": "code",
   "execution_count": 17,
   "metadata": {},
   "outputs": [],
   "source": [
    "train_df.to_csv('crawl-ratings/train.csv',index=None)"
   ]
  },
  {
   "cell_type": "code",
   "execution_count": 19,
   "metadata": {},
   "outputs": [],
   "source": [
    "test_df.to_csv('crawl-ratings/test.csv',index=None)"
   ]
  }
 ],
 "metadata": {
  "kernelspec": {
   "display_name": "Python 3",
   "language": "python",
   "name": "python3"
  },
  "language_info": {
   "codemirror_mode": {
    "name": "ipython",
    "version": 3
   },
   "file_extension": ".py",
   "mimetype": "text/x-python",
   "name": "python",
   "nbconvert_exporter": "python",
   "pygments_lexer": "ipython3",
   "version": "3.7.3"
  }
 },
 "nbformat": 4,
 "nbformat_minor": 4
}
