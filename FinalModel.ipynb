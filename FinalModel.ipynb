{
 "cells": [
  {
   "cell_type": "markdown",
   "metadata": {},
   "source": [
    "# Preprocessing"
   ]
  },
  {
   "cell_type": "markdown",
   "metadata": {},
   "source": [
    "### Filter out movies < 5 ratings"
   ]
  },
  {
   "cell_type": "code",
   "execution_count": 1,
   "metadata": {},
   "outputs": [],
   "source": [
    "import pandas as pd\n",
    "import glob\n",
    "%matplotlib inline"
   ]
  },
  {
   "cell_type": "code",
   "execution_count": 4,
   "metadata": {},
   "outputs": [
    {
     "data": {
      "text/html": [
       "<div>\n",
       "<style scoped>\n",
       "    .dataframe tbody tr th:only-of-type {\n",
       "        vertical-align: middle;\n",
       "    }\n",
       "\n",
       "    .dataframe tbody tr th {\n",
       "        vertical-align: top;\n",
       "    }\n",
       "\n",
       "    .dataframe thead th {\n",
       "        text-align: right;\n",
       "    }\n",
       "</style>\n",
       "<table border=\"1\" class=\"dataframe\">\n",
       "  <thead>\n",
       "    <tr style=\"text-align: right;\">\n",
       "      <th></th>\n",
       "      <th>UserID</th>\n",
       "      <th>MovieID</th>\n",
       "      <th>Rating</th>\n",
       "    </tr>\n",
       "  </thead>\n",
       "  <tbody>\n",
       "    <tr>\n",
       "      <th>0</th>\n",
       "      <td>ur66355076</td>\n",
       "      <td>tt3501632</td>\n",
       "      <td>7</td>\n",
       "    </tr>\n",
       "    <tr>\n",
       "      <th>1</th>\n",
       "      <td>ur66355076</td>\n",
       "      <td>tt5776858</td>\n",
       "      <td>8</td>\n",
       "    </tr>\n",
       "    <tr>\n",
       "      <th>2</th>\n",
       "      <td>ur66355076</td>\n",
       "      <td>tt2543164</td>\n",
       "      <td>9</td>\n",
       "    </tr>\n",
       "    <tr>\n",
       "      <th>3</th>\n",
       "      <td>ur66355076</td>\n",
       "      <td>tt1856101</td>\n",
       "      <td>8</td>\n",
       "    </tr>\n",
       "    <tr>\n",
       "      <th>4</th>\n",
       "      <td>ur66355076</td>\n",
       "      <td>tt1825683</td>\n",
       "      <td>9</td>\n",
       "    </tr>\n",
       "    <tr>\n",
       "      <th>...</th>\n",
       "      <td>...</td>\n",
       "      <td>...</td>\n",
       "      <td>...</td>\n",
       "    </tr>\n",
       "    <tr>\n",
       "      <th>182881</th>\n",
       "      <td>ur3032357</td>\n",
       "      <td>tt0120685</td>\n",
       "      <td>4</td>\n",
       "    </tr>\n",
       "    <tr>\n",
       "      <th>182882</th>\n",
       "      <td>ur3032357</td>\n",
       "      <td>tt0145681</td>\n",
       "      <td>7</td>\n",
       "    </tr>\n",
       "    <tr>\n",
       "      <th>182883</th>\n",
       "      <td>ur3032357</td>\n",
       "      <td>tt0075148</td>\n",
       "      <td>9</td>\n",
       "    </tr>\n",
       "    <tr>\n",
       "      <th>182884</th>\n",
       "      <td>ur3032357</td>\n",
       "      <td>tt0088763</td>\n",
       "      <td>8</td>\n",
       "    </tr>\n",
       "    <tr>\n",
       "      <th>182885</th>\n",
       "      <td>ur3032357</td>\n",
       "      <td>tt0082198</td>\n",
       "      <td>8</td>\n",
       "    </tr>\n",
       "  </tbody>\n",
       "</table>\n",
       "<p>1626980 rows × 3 columns</p>\n",
       "</div>"
      ],
      "text/plain": [
       "            UserID    MovieID  Rating \n",
       "0       ur66355076  tt3501632        7\n",
       "1       ur66355076  tt5776858        8\n",
       "2       ur66355076  tt2543164        9\n",
       "3       ur66355076  tt1856101        8\n",
       "4       ur66355076  tt1825683        9\n",
       "...            ...        ...      ...\n",
       "182881   ur3032357  tt0120685        4\n",
       "182882   ur3032357  tt0145681        7\n",
       "182883   ur3032357  tt0075148        9\n",
       "182884   ur3032357  tt0088763        8\n",
       "182885   ur3032357  tt0082198        8\n",
       "\n",
       "[1626980 rows x 3 columns]"
      ]
     },
     "execution_count": 4,
     "metadata": {},
     "output_type": "execute_result"
    }
   ],
   "source": [
    "df_rating = pd.read_csv('crawl-ratings/rating-filtered.csv')\n",
    "df_rating"
   ]
  },
  {
   "cell_type": "code",
   "execution_count": 5,
   "metadata": {},
   "outputs": [],
   "source": [
    "movie_stat = df_rating['MovieID'].value_counts()"
   ]
  },
  {
   "cell_type": "code",
   "execution_count": 6,
   "metadata": {},
   "outputs": [
    {
     "name": "stdout",
     "output_type": "stream",
     "text": [
      "1626980\n",
      "1464738\n",
      "162242\n"
     ]
    }
   ],
   "source": [
    "print(movie_stat.sum())\n",
    "print(movie_stat[movie_stat>=5].sum())\n",
    "print(movie_stat[movie_stat<5].sum())"
   ]
  },
  {
   "cell_type": "code",
   "execution_count": 9,
   "metadata": {},
   "outputs": [
    {
     "data": {
      "text/plain": [
       "<matplotlib.axes._subplots.AxesSubplot at 0x7f7494679350>"
      ]
     },
     "execution_count": 9,
     "metadata": {},
     "output_type": "execute_result"
    },
    {
     "data": {
      "image/png": "[encoded data removed]",
      "text/plain": [
       "<Figure size 432x288 with 1 Axes>"
      ]
     },
     "metadata": {
      "needs_background": "light"
     },
     "output_type": "display_data"
    }
   ],
   "source": [
    "movie_stat.value_counts()[:20].plot.bar()"
   ]
  },
  {
   "cell_type": "code",
   "execution_count": 10,
   "metadata": {},
   "outputs": [],
   "source": [
    "threshold=5"
   ]
  },
  {
   "cell_type": "code",
   "execution_count": 11,
   "metadata": {},
   "outputs": [],
   "source": [
    "df_rating_filtered = df_rating[df_rating.MovieID.isin(movie_stat[movie_stat>=threshold].index)]"
   ]
  },
  {
   "cell_type": "code",
   "execution_count": 12,
   "metadata": {},
   "outputs": [
    {
     "data": {
      "text/plain": [
       "tt0096697    5929\n",
       "tt0944947    3676\n",
       "tt0108778    3239\n",
       "tt0052520    2891\n",
       "tt0903747    2409\n",
       "             ... \n",
       "tt0439707       5\n",
       "tt0079803       5\n",
       "tt0387887       5\n",
       "tt7853068       5\n",
       "tt0037662       5\n",
       "Name: MovieID, Length: 38718, dtype: int64"
      ]
     },
     "execution_count": 12,
     "metadata": {},
     "output_type": "execute_result"
    }
   ],
   "source": [
    "df_rating_filtered['MovieID'].value_counts()"
   ]
  },
  {
   "cell_type": "code",
   "execution_count": 114,
   "metadata": {},
   "outputs": [
    {
     "data": {
      "text/plain": [
       "ur103317327    103\n",
       "ur61423863     102\n",
       "ur32915980     101\n",
       "ur49236468     101\n",
       "ur5411269      100\n",
       "ur82903451      99\n",
       "ur22999317      99\n",
       "ur62942093      99\n",
       "ur106224983     94\n",
       "ur40049808      93\n",
       "ur46768703      91\n",
       "ur108071848     86\n",
       "ur94875269      85\n",
       "ur14330747      61\n",
       "ur92127176      59\n",
       "Name: UserID, dtype: int64"
      ]
     },
     "execution_count": 114,
     "metadata": {},
     "output_type": "execute_result"
    }
   ],
   "source": [
    "df_rating_filtered['UserID'].value_counts()[-15:]"
   ]
  },
  {
   "cell_type": "code",
   "execution_count": 17,
   "metadata": {},
   "outputs": [],
   "source": [
    "df_rating_filtered.to_csv('crawl-ratings/rating-filtered.csv', index=False)"
   ]
  },
  {
   "cell_type": "code",
   "execution_count": 108,
   "metadata": {},
   "outputs": [],
   "source": [
    "# Other threshold\n",
    "threshold=30"
   ]
  },
  {
   "cell_type": "code",
   "execution_count": 109,
   "metadata": {},
   "outputs": [],
   "source": [
    "df_rating_filtered_50 = df_rating[df_rating.MovieID.isin(movie_stat[movie_stat>=threshold].index)]"
   ]
  },
  {
   "cell_type": "code",
   "execution_count": 110,
   "metadata": {},
   "outputs": [
    {
     "data": {
      "text/plain": [
       "tt0096697    5929\n",
       "tt0944947    3676\n",
       "tt0108778    3239\n",
       "tt0052520    2891\n",
       "tt0903747    2409\n",
       "             ... \n",
       "tt5316540      30\n",
       "tt0062861      30\n",
       "tt2203308      30\n",
       "tt0037615      30\n",
       "tt5278426      30\n",
       "Name: MovieID, Length: 9748, dtype: int64"
      ]
     },
     "execution_count": 110,
     "metadata": {},
     "output_type": "execute_result"
    }
   ],
   "source": [
    "df_rating_filtered_50['MovieID'].value_counts()"
   ]
  },
  {
   "cell_type": "code",
   "execution_count": 111,
   "metadata": {},
   "outputs": [
    {
     "data": {
      "text/plain": [
       "ur19009969    15934\n",
       "ur3032357     15158\n",
       "ur34575093     9429\n",
       "ur23172671     9350\n",
       "ur28967391     9329\n",
       "              ...  \n",
       "ur13588546       49\n",
       "ur11983563       46\n",
       "ur92127176       40\n",
       "ur53825238       30\n",
       "ur14330747       25\n",
       "Name: UserID, Length: 1105, dtype: int64"
      ]
     },
     "execution_count": 111,
     "metadata": {},
     "output_type": "execute_result"
    }
   ],
   "source": [
    "df_rating_filtered_50['UserID'].value_counts()"
   ]
  },
  {
   "cell_type": "markdown",
   "metadata": {},
   "source": [
    "## Split train-test"
   ]
  },
  {
   "cell_type": "code",
   "execution_count": 2,
   "metadata": {},
   "outputs": [],
   "source": [
    "df = pd.read_csv('crawl-ratings/rating-filtered.csv')"
   ]
  },
  {
   "cell_type": "code",
   "execution_count": 6,
   "metadata": {},
   "outputs": [],
   "source": [
    "user_list = df.UserID.unique()"
   ]
  },
  {
   "cell_type": "code",
   "execution_count": 10,
   "metadata": {},
   "outputs": [
    {
     "name": "stdout",
     "output_type": "stream",
     "text": [
      "................................................................................................................................................................................................................................................................................................................................................................................................................................................................................................................................................................................................................................................................................................................................................................................................................................................................................................................................................................................................................................................................................................................................................."
     ]
    }
   ],
   "source": [
    "train_list=[]\n",
    "test_list=[]\n",
    "test_rating_per_user=20\n",
    "for user in user_list:\n",
    "    user_rating = df[df.UserID == user]\n",
    "    user_test = user_rating.sample(n=test_rating_per_user,random_state=0)\n",
    "    test_list.append(user_test)\n",
    "    train_list.append(user_rating.drop(user_test.index))\n",
    "    print('.',end='')\n",
    "train_df = pd.concat(train_list)\n",
    "test_df = pd.concat(test_list)"
   ]
  },
  {
   "cell_type": "code",
   "execution_count": 16,
   "metadata": {},
   "outputs": [
    {
     "data": {
      "text/plain": [
       "ur35000509    20\n",
       "ur6918917     20\n",
       "ur82535306    20\n",
       "ur50335266    20\n",
       "ur10115534    20\n",
       "              ..\n",
       "ur66601046    20\n",
       "ur94875269    20\n",
       "ur0568099     20\n",
       "ur19998007    20\n",
       "ur61466300    20\n",
       "Name: UserID, Length: 1105, dtype: int64"
      ]
     },
     "execution_count": 16,
     "metadata": {},
     "output_type": "execute_result"
    }
   ],
   "source": [
    "test_df.UserID.value_counts()"
   ]
  },
  {
   "cell_type": "code",
   "execution_count": 17,
   "metadata": {},
   "outputs": [],
   "source": [
    "train_df.to_csv('crawl-ratings/train.csv',index=None)"
   ]
  },
  {
   "cell_type": "code",
   "execution_count": 19,
   "metadata": {},
   "outputs": [],
   "source": [
    "test_df.to_csv('crawl-ratings/test.csv',index=None)"
   ]
  },
  {
   "cell_type": "markdown",
   "metadata": {},
   "source": [
    "## Translate dataset to user index and movie index"
   ]
  },
  {
   "cell_type": "code",
   "execution_count": 55,
   "metadata": {},
   "outputs": [],
   "source": [
    "train_df = pd.read_csv('crawl-ratings/train.csv')"
   ]
  },
  {
   "cell_type": "code",
   "execution_count": 60,
   "metadata": {},
   "outputs": [],
   "source": [
    "user_list = train_df.UserID.unique()"
   ]
  },
  {
   "cell_type": "code",
   "execution_count": 78,
   "metadata": {},
   "outputs": [],
   "source": [
    "user_df = pd.DataFrame({'UserID':list(user_list),'UserIndex':list(range(user_list.size))})"
   ]
  },
  {
   "cell_type": "code",
   "execution_count": 80,
   "metadata": {},
   "outputs": [],
   "source": [
    "user_df.to_csv('crawl-users/user-ids.csv',index=None)"
   ]
  },
  {
   "cell_type": "code",
   "execution_count": 65,
   "metadata": {},
   "outputs": [],
   "source": [
    "user_map = dict(zip(list(user_list),list(range(user_list.size))))"
   ]
  },
  {
   "cell_type": "code",
   "execution_count": 68,
   "metadata": {},
   "outputs": [],
   "source": [
    "movie_df = pd.read_csv('crawl-movies-info/movie-idx.csv')"
   ]
  },
  {
   "cell_type": "code",
   "execution_count": 69,
   "metadata": {},
   "outputs": [],
   "source": [
    "movie_map = dict(zip(list(movie_df.MovieID),list(movie_df.MovieIndex)))"
   ]
  },
  {
   "cell_type": "code",
   "execution_count": 73,
   "metadata": {},
   "outputs": [],
   "source": [
    "train_ids_df = pd.DataFrame({'UserIndex':train_df.UserID.apply(lambda x:user_map[x]),\n",
    "                            'MovieIndex':train_df.MovieID.apply(lambda x:movie_map[x]),\n",
    "                            'Rating':train_df.Rating})"
   ]
  },
  {
   "cell_type": "code",
   "execution_count": 75,
   "metadata": {},
   "outputs": [],
   "source": [
    "train_ids_df.to_csv('crawl-ratings/train_ids.csv',index=None)"
   ]
  },
  {
   "cell_type": "code",
   "execution_count": 77,
   "metadata": {},
   "outputs": [],
   "source": [
    "test_df = pd.read_csv('crawl-ratings/test.csv')\n",
    "test_ids_df = pd.DataFrame({'UserIndex':test_df.UserID.apply(lambda x:user_map[x]),\n",
    "                            'MovieIndex':test_df.MovieID.apply(lambda x:movie_map[x]),\n",
    "                            'Rating':test_df.Rating})\n",
    "test_ids_df.to_csv('crawl-ratings/test_ids.csv',index=None)"
   ]
  },
  {
   "cell_type": "markdown",
   "metadata": {},
   "source": [
    "# Matric Factorization"
   ]
  },
  {
   "cell_type": "code",
   "execution_count": 5,
   "metadata": {},
   "outputs": [],
   "source": [
    "import os\n",
    "import itertools\n",
    "import pickle\n",
    "\n",
    "import pandas as pd\n",
    "from surprise import SVD\n",
    "from surprise import Dataset\n",
    "from surprise import accuracy\n",
    "from surprise.model_selection import train_test_split\n",
    "from surprise import Reader"
   ]
  },
  {
   "cell_type": "code",
   "execution_count": 2,
   "metadata": {},
   "outputs": [],
   "source": [
    "# Load the data set from file\n",
    "file_path = os.path.join(\"crawl-ratings\", \"train.csv\")\n",
    "reader = Reader(line_format=\"user item rating\",\n",
    "                sep=\",\",\n",
    "                rating_scale=(1, 10),\n",
    "                skip_lines=1)\n",
    "data = Dataset.load_from_file(file_path, reader=reader)\n",
    "\n",
    "# sample random trainset and validation set\n",
    "# val set is made of 25% of the ratings.\n",
    "train_set, validation_set = train_test_split(data, test_size=0.25, random_state=0)"
   ]
  },
  {
   "cell_type": "code",
   "execution_count": 4,
   "metadata": {
    "scrolled": true
   },
   "outputs": [
    {
     "name": "stdout",
     "output_type": "stream",
     "text": [
      "RMSE: 1.5662\n",
      "Rmse for 10 factors with 0.01 regesion is 1.5662058102415837\n",
      "RMSE: 1.5467\n",
      "Rmse for 10 factors with 0.02 regesion is 1.5466890582769512\n",
      "RMSE: 1.5294\n",
      "Rmse for 10 factors with 0.05 regesion is 1.5294474670003726\n",
      "RMSE: 1.5326\n",
      "Rmse for 10 factors with 0.1 regesion is 1.5326316573629475\n",
      "RMSE: 1.6145\n",
      "Rmse for 50 factors with 0.01 regesion is 1.614496881519193\n",
      "RMSE: 1.5767\n",
      "Rmse for 50 factors with 0.02 regesion is 1.5767087967250086\n",
      "RMSE: 1.5265\n",
      "Rmse for 50 factors with 0.05 regesion is 1.526468134266003\n",
      "RMSE: 1.5249\n",
      "Rmse for 50 factors with 0.1 regesion is 1.5248749218540365\n",
      "RMSE: 1.6172\n",
      "Rmse for 100 factors with 0.01 regesion is 1.617223977555844\n",
      "RMSE: 1.5768\n",
      "Rmse for 100 factors with 0.02 regesion is 1.5768020006742227\n",
      "RMSE: 1.5239\n",
      "Rmse for 100 factors with 0.05 regesion is 1.5239266282412918\n",
      "RMSE: 1.5205\n",
      "Rmse for 100 factors with 0.1 regesion is 1.5205153418325743\n",
      "RMSE: 1.6128\n",
      "Rmse for 150 factors with 0.01 regesion is 1.612800238584212\n",
      "RMSE: 1.5703\n",
      "Rmse for 150 factors with 0.02 regesion is 1.5703137033858785\n",
      "RMSE: 1.5228\n",
      "Rmse for 150 factors with 0.05 regesion is 1.5228292715857576\n",
      "RMSE: 1.5199\n",
      "Rmse for 150 factors with 0.1 regesion is 1.5199234338741061\n",
      "RMSE: 1.6063\n",
      "Rmse for 200 factors with 0.01 regesion is 1.6062619826523716\n",
      "RMSE: 1.5670\n",
      "Rmse for 200 factors with 0.02 regesion is 1.567005287860283\n",
      "RMSE: 1.5207\n",
      "Rmse for 200 factors with 0.05 regesion is 1.520709972309281\n",
      "RMSE: 1.5199\n",
      "Rmse for 200 factors with 0.1 regesion is 1.5198517442645045\n"
     ]
    }
   ],
   "source": [
    "# Validation process\n",
    "n_factors_list = [10, 50, 100, 150,\n",
    "                  200]  # The number of factors, default value is 100\n",
    "reg_all_list = [\n",
    "    0.01,\n",
    "    0.02,\n",
    "    0.05,\n",
    "    0.1,\n",
    "]  # The regularization term for all params, default value is 0.02\n",
    "\n",
    "n_factors_best = reg_all_best = model_best = None\n",
    "rmse_best = float(\"inf\")\n",
    "rmse_list = []\n",
    "\n",
    "for n_factors, reg_all in itertools.product(n_factors_list, reg_all_list):\n",
    "    algo = SVD(n_factors=n_factors, reg_all=reg_all)\n",
    "    algo.fit(train_set)\n",
    "    predictions = algo.test(validation_set)\n",
    "\n",
    "    rmse = accuracy.rmse(predictions)\n",
    "    rmse_list.append(rmse)\n",
    "    print(f\"Rmse for {n_factors} factors with {reg_all} regesion is {rmse}\")\n",
    "    if rmse < rmse_best:\n",
    "        n_factors_best, reg_all_best, model_best, rmse_best = n_factors, reg_all, algo, rmse"
   ]
  },
  {
   "cell_type": "code",
   "execution_count": 5,
   "metadata": {},
   "outputs": [],
   "source": [
    "# save model\n",
    "file_name = \"matrix_decomposition_model.pkl\"\n",
    "with open(file_name, \"wb\") as f:\n",
    "    pickle.dump(model_best, f)"
   ]
  },
  {
   "cell_type": "code",
   "execution_count": 6,
   "metadata": {},
   "outputs": [],
   "source": [
    "# load model\n",
    "loaded_model = None\n",
    "\n",
    "with open(file_name, \"rb\") as f:\n",
    "    loaded_model = pickle.load(f)"
   ]
  },
  {
   "cell_type": "code",
   "execution_count": 7,
   "metadata": {},
   "outputs": [
    {
     "name": "stdout",
     "output_type": "stream",
     "text": [
      "RMSE: 1.5199\n"
     ]
    },
    {
     "data": {
      "text/plain": [
       "1.5198517442645045"
      ]
     },
     "execution_count": 7,
     "metadata": {},
     "output_type": "execute_result"
    }
   ],
   "source": [
    "accuracy.rmse(loaded_model.test(validation_set))"
   ]
  },
  {
   "cell_type": "code",
   "execution_count": 2,
   "metadata": {},
   "outputs": [],
   "source": [
    "user_rating = Dataset.load_from_file(os.path.join(\"new_user\", \"rating_all.csv\"), reader)\n",
    "all_train_set = user_rating.build_full_trainset()\n"
   ]
  },
  {
   "cell_type": "code",
   "execution_count": 41,
   "metadata": {},
   "outputs": [
    {
     "data": {
      "text/plain": [
       "<surprise.prediction_algorithms.matrix_factorization.SVD at 0x7fa254be5f10>"
      ]
     },
     "execution_count": 41,
     "metadata": {},
     "output_type": "execute_result"
    }
   ],
   "source": [
    "algo.fit(all_train_set)"
   ]
  },
  {
   "cell_type": "code",
   "execution_count": 44,
   "metadata": {},
   "outputs": [
    {
     "data": {
      "text/plain": [
       "Prediction(uid='ur26266323', iid='tt0310281', r_ui=None, est=7.126198497368478, details={'was_impossible': False})"
      ]
     },
     "execution_count": 44,
     "metadata": {},
     "output_type": "execute_result"
    }
   ],
   "source": [
    "algo.predict(\"ur26266323\",\"tt0310281\")"
   ]
  },
  {
   "cell_type": "code",
   "execution_count": 49,
   "metadata": {},
   "outputs": [],
   "source": [
    "all_movies_df = pd.read_csv(os.path.join(\"crawl-movies-info\", \"movie-idx.csv\"))"
   ]
  },
  {
   "cell_type": "code",
   "execution_count": 50,
   "metadata": {},
   "outputs": [],
   "source": [
    "pred = [algo.predict(\"u0\", movieId) for movieId in all_movies_df[\"MovieID\"]]"
   ]
  },
  {
   "cell_type": "code",
   "execution_count": 65,
   "metadata": {
    "scrolled": true
   },
   "outputs": [],
   "source": [
    "pred.sort(key=lambda x:x.est, reverse=True)"
   ]
  },
  {
   "cell_type": "code",
   "execution_count": 66,
   "metadata": {
    "scrolled": true
   },
   "outputs": [
    {
     "data": {
      "text/plain": [
       "[Prediction(uid='u0', iid='tt2103188', r_ui=None, est=8.794842040254897, details={'was_impossible': False}),\n",
       " Prediction(uid='u0', iid='tt5275892', r_ui=None, est=8.558307170897388, details={'was_impossible': False}),\n",
       " Prediction(uid='u0', iid='tt0397042', r_ui=None, est=8.545421519855788, details={'was_impossible': False}),\n",
       " Prediction(uid='u0', iid='tt0071075', r_ui=None, est=8.51977031660955, details={'was_impossible': False}),\n",
       " Prediction(uid='u0', iid='tt1877514', r_ui=None, est=8.518343533446552, details={'was_impossible': False}),\n",
       " Prediction(uid='u0', iid='tt1568322', r_ui=None, est=8.510734349419534, details={'was_impossible': False}),\n",
       " Prediction(uid='u0', iid='tt1479962', r_ui=None, est=8.50275728962319, details={'was_impossible': False}),\n",
       " Prediction(uid='u0', iid='tt5491994', r_ui=None, est=8.493235941207915, details={'was_impossible': False}),\n",
       " Prediction(uid='u0', iid='tt0081846', r_ui=None, est=8.485882723513075, details={'was_impossible': False}),\n",
       " Prediction(uid='u0', iid='tt2140553', r_ui=None, est=8.47965519672948, details={'was_impossible': False}),\n",
       " Prediction(uid='u0', iid='tt2321297', r_ui=None, est=8.463676041814471, details={'was_impossible': False}),\n",
       " Prediction(uid='u0', iid='tt2395695', r_ui=None, est=8.4630156826663, details={'was_impossible': False}),\n",
       " Prediction(uid='u0', iid='tt0383385', r_ui=None, est=8.455048807669161, details={'was_impossible': False}),\n",
       " Prediction(uid='u0', iid='tt0809488', r_ui=None, est=8.450474702378656, details={'was_impossible': False}),\n",
       " Prediction(uid='u0', iid='tt0084509', r_ui=None, est=8.449427151810683, details={'was_impossible': False}),\n",
       " Prediction(uid='u0', iid='tt0203082', r_ui=None, est=8.435099764000046, details={'was_impossible': False}),\n",
       " Prediction(uid='u0', iid='tt1814884', r_ui=None, est=8.43022486468593, details={'was_impossible': False}),\n",
       " Prediction(uid='u0', iid='tt0802999', r_ui=None, est=8.428577730510096, details={'was_impossible': False}),\n",
       " Prediction(uid='u0', iid='tt0314123', r_ui=None, est=8.421770578202247, details={'was_impossible': False}),\n",
       " Prediction(uid='u0', iid='tt0098769', r_ui=None, est=8.414265398607045, details={'was_impossible': False}),\n",
       " Prediction(uid='u0', iid='tt1127708', r_ui=None, est=8.411743444116407, details={'was_impossible': False}),\n",
       " Prediction(uid='u0', iid='tt0263641', r_ui=None, est=8.398598077987382, details={'was_impossible': False}),\n",
       " Prediction(uid='u0', iid='tt3613974', r_ui=None, est=8.3739301693774, details={'was_impossible': False}),\n",
       " Prediction(uid='u0', iid='tt1540125', r_ui=None, est=8.33705804382019, details={'was_impossible': False}),\n",
       " Prediction(uid='u0', iid='tt0084701', r_ui=None, est=8.326775814877035, details={'was_impossible': False}),\n",
       " Prediction(uid='u0', iid='tt2006890', r_ui=None, est=8.323833095431729, details={'was_impossible': False}),\n",
       " Prediction(uid='u0', iid='tt0111958', r_ui=None, est=8.320479839852922, details={'was_impossible': False}),\n",
       " Prediction(uid='u0', iid='tt0058805', r_ui=None, est=8.314086726578495, details={'was_impossible': False}),\n",
       " Prediction(uid='u0', iid='tt0023251', r_ui=None, est=8.311494031271728, details={'was_impossible': False}),\n",
       " Prediction(uid='u0', iid='tt3561180', r_ui=None, est=8.309850384785795, details={'was_impossible': False}),\n",
       " Prediction(uid='u0', iid='tt0080230', r_ui=None, est=8.306348717025507, details={'was_impossible': False}),\n",
       " Prediction(uid='u0', iid='tt0055353', r_ui=None, est=8.306106393883475, details={'was_impossible': False}),\n",
       " Prediction(uid='u0', iid='tt3400010', r_ui=None, est=8.304476718162707, details={'was_impossible': False}),\n",
       " Prediction(uid='u0', iid='tt0045708', r_ui=None, est=8.302382665624819, details={'was_impossible': False}),\n",
       " Prediction(uid='u0', iid='tt0486673', r_ui=None, est=8.30107823423537, details={'was_impossible': False}),\n",
       " Prediction(uid='u0', iid='tt0199208', r_ui=None, est=8.300890425894368, details={'was_impossible': False}),\n",
       " Prediction(uid='u0', iid='tt0051189', r_ui=None, est=8.298664412926144, details={'was_impossible': False}),\n",
       " Prediction(uid='u0', iid='tt0047281', r_ui=None, est=8.297015711687163, details={'was_impossible': False}),\n",
       " Prediction(uid='u0', iid='tt0149314', r_ui=None, est=8.291162312739235, details={'was_impossible': False}),\n",
       " Prediction(uid='u0', iid='tt6769208', r_ui=None, est=8.287055078559666, details={'was_impossible': False}),\n",
       " Prediction(uid='u0', iid='tt4508902', r_ui=None, est=8.285186423060352, details={'was_impossible': False}),\n",
       " Prediction(uid='u0', iid='tt0053131', r_ui=None, est=8.27510699657831, details={'was_impossible': False}),\n",
       " Prediction(uid='u0', iid='tt5838588', r_ui=None, est=8.273661962589072, details={'was_impossible': False}),\n",
       " Prediction(uid='u0', iid='tt1510985', r_ui=None, est=8.271248871027062, details={'was_impossible': False}),\n",
       " Prediction(uid='u0', iid='tt1648163', r_ui=None, est=8.265713574161914, details={'was_impossible': False}),\n",
       " Prediction(uid='u0', iid='tt2707408', r_ui=None, est=8.264475604742568, details={'was_impossible': False}),\n",
       " Prediction(uid='u0', iid='tt7366338', r_ui=None, est=8.262783228756971, details={'was_impossible': False}),\n",
       " Prediction(uid='u0', iid='tt0068646', r_ui=None, est=8.261218544834104, details={'was_impossible': False}),\n",
       " Prediction(uid='u0', iid='tt8089282', r_ui=None, est=8.259213546277183, details={'was_impossible': False}),\n",
       " Prediction(uid='u0', iid='tt0081834', r_ui=None, est=8.256556658921191, details={'was_impossible': False}),\n",
       " Prediction(uid='u0', iid='tt1349460', r_ui=None, est=8.256248401137594, details={'was_impossible': False}),\n",
       " Prediction(uid='u0', iid='tt1877368', r_ui=None, est=8.252589331760177, details={'was_impossible': False}),\n",
       " Prediction(uid='u0', iid='tt0912593', r_ui=None, est=8.250912351402333, details={'was_impossible': False}),\n",
       " Prediction(uid='u0', iid='tt0221606', r_ui=None, est=8.243286500205569, details={'was_impossible': False}),\n",
       " Prediction(uid='u0', iid='tt0200276', r_ui=None, est=8.239625907520828, details={'was_impossible': False}),\n",
       " Prediction(uid='u0', iid='tt1567215', r_ui=None, est=8.239367493058296, details={'was_impossible': False}),\n",
       " Prediction(uid='u0', iid='tt2303687', r_ui=None, est=8.235353811998271, details={'was_impossible': False}),\n",
       " Prediction(uid='u0', iid='tt0062588', r_ui=None, est=8.232876635177638, details={'was_impossible': False}),\n",
       " Prediction(uid='u0', iid='tt0247882', r_ui=None, est=8.22849777835081, details={'was_impossible': False}),\n",
       " Prediction(uid='u0', iid='tt2802850', r_ui=None, est=8.224478230088389, details={'was_impossible': False}),\n",
       " Prediction(uid='u0', iid='tt0051994', r_ui=None, est=8.224243980844532, details={'was_impossible': False}),\n",
       " Prediction(uid='u0', iid='tt8398600', r_ui=None, est=8.222331343883154, details={'was_impossible': False}),\n",
       " Prediction(uid='u0', iid='tt0084362', r_ui=None, est=8.222184782439578, details={'was_impossible': False}),\n",
       " Prediction(uid='u0', iid='tt7653254', r_ui=None, est=8.220287360921176, details={'was_impossible': False}),\n",
       " Prediction(uid='u0', iid='tt0072500', r_ui=None, est=8.21898904619211, details={'was_impossible': False}),\n",
       " Prediction(uid='u0', iid='tt0054476', r_ui=None, est=8.21734066288352, details={'was_impossible': False}),\n",
       " Prediction(uid='u0', iid='tt0185906', r_ui=None, est=8.216099006281379, details={'was_impossible': False}),\n",
       " Prediction(uid='u0', iid='tt0111893', r_ui=None, est=8.2116560351614, details={'was_impossible': False}),\n",
       " Prediction(uid='u0', iid='tt0944947', r_ui=None, est=8.20660071173698, details={'was_impossible': False}),\n",
       " Prediction(uid='u0', iid='tt6019206', r_ui=None, est=8.206587454474363, details={'was_impossible': False}),\n",
       " Prediction(uid='u0', iid='tt1839558', r_ui=None, est=8.206553014025626, details={'was_impossible': False}),\n",
       " Prediction(uid='u0', iid='tt0296310', r_ui=None, est=8.20618134361409, details={'was_impossible': False}),\n",
       " Prediction(uid='u0', iid='tt9253866', r_ui=None, est=8.20511538109148, details={'was_impossible': False}),\n",
       " Prediction(uid='u0', iid='tt0096657', r_ui=None, est=8.204781946680436, details={'was_impossible': False}),\n",
       " Prediction(uid='u0', iid='tt0043313', r_ui=None, est=8.202709956720557, details={'was_impossible': False}),\n",
       " Prediction(uid='u0', iid='tt0120737', r_ui=None, est=8.202690286538536, details={'was_impossible': False}),\n",
       " Prediction(uid='u0', iid='tt0244316', r_ui=None, est=8.200787190665778, details={'was_impossible': False}),\n",
       " Prediction(uid='u0', iid='tt0050083', r_ui=None, est=8.200354073273564, details={'was_impossible': False}),\n",
       " Prediction(uid='u0', iid='tt0088727', r_ui=None, est=8.196117269752293, details={'was_impossible': False}),\n",
       " Prediction(uid='u0', iid='tt0167260', r_ui=None, est=8.182587442745994, details={'was_impossible': False}),\n",
       " Prediction(uid='u0', iid='tt0374692', r_ui=None, est=8.1825471209771, details={'was_impossible': False}),\n",
       " Prediction(uid='u0', iid='tt0284110', r_ui=None, est=8.181891464188837, details={'was_impossible': False}),\n",
       " Prediction(uid='u0', iid='tt0247380', r_ui=None, est=8.18014585097571, details={'was_impossible': False}),\n",
       " Prediction(uid='u0', iid='tt0059894', r_ui=None, est=8.177946589579719, details={'was_impossible': False}),\n",
       " Prediction(uid='u0', iid='tt0074048', r_ui=None, est=8.176699525024086, details={'was_impossible': False}),\n",
       " Prediction(uid='u0', iid='tt2125608', r_ui=None, est=8.175221235495725, details={'was_impossible': False}),\n",
       " Prediction(uid='u0', iid='tt3530232', r_ui=None, est=8.175181867600857, details={'was_impossible': False}),\n",
       " Prediction(uid='u0', iid='tt0043459', r_ui=None, est=8.173374129646993, details={'was_impossible': False}),\n",
       " Prediction(uid='u0', iid='tt4412754', r_ui=None, est=8.17068505865582, details={'was_impossible': False}),\n",
       " Prediction(uid='u0', iid='tt6466208', r_ui=None, est=8.169959237850817, details={'was_impossible': False}),\n",
       " Prediction(uid='u0', iid='tt0053115', r_ui=None, est=8.168274455969733, details={'was_impossible': False}),\n",
       " Prediction(uid='u0', iid='tt0075561', r_ui=None, est=8.162638922851354, details={'was_impossible': False}),\n",
       " Prediction(uid='u0', iid='tt7889220', r_ui=None, est=8.161021918157987, details={'was_impossible': False}),\n",
       " Prediction(uid='u0', iid='tt0050870', r_ui=None, est=8.15987823072759, details={'was_impossible': False}),\n",
       " Prediction(uid='u0', iid='tt0098878', r_ui=None, est=8.157483045353422, details={'was_impossible': False}),\n",
       " Prediction(uid='u0', iid='tt0048434', r_ui=None, est=8.156840274327976, details={'was_impossible': False}),\n",
       " Prediction(uid='u0', iid='tt0055892', r_ui=None, est=8.153443829997633, details={'was_impossible': False}),\n",
       " Prediction(uid='u0', iid='tt2331143', r_ui=None, est=8.153088222912906, details={'was_impossible': False}),\n",
       " Prediction(uid='u0', iid='tt0071143', r_ui=None, est=8.148808195270853, details={'was_impossible': False}),\n",
       " Prediction(uid='u0', iid='tt0458254', r_ui=None, est=8.147757613985123, details={'was_impossible': False})]"
      ]
     },
     "execution_count": 66,
     "metadata": {},
     "output_type": "execute_result"
    }
   ],
   "source": [
    "pred[:100]"
   ]
  },
  {
   "cell_type": "code",
   "execution_count": 38,
   "metadata": {},
   "outputs": [],
   "source": [
    "def mfcf_predict(movie_ids, scores):\n",
    "    test_df = pd.read_csv(os.path.join(\"crawl-ratings\",\"train_ids.csv\"))\n",
    "    user_df = pd.DataFrame(list(zip([2000]*len(movie_ids), movie_ids, scores)), columns=[\"UserIndex\", \"MovieIndex\", \"Rating\"])\n",
    "    df = pd.concat([test_df, user_df])\n",
    "    reader = Reader(line_format=\"user item rating\",\n",
    "                rating_scale=(1, 10))\n",
    "    data = Dataset.load_from_df(df[[\"UserIndex\", \"MovieIndex\", \"Rating\"]], reader)\n",
    "    all_movie_df = pd.read_csv(os.path.join(\"crawl-movies-info\", \"movie-idx.csv\"))\n",
    "    all_train_set = data.build_full_trainset()\n",
    "    algo = SVD(n_factors=100, reg_all=0.1)\n",
    "    algo.fit(all_train_set)\n",
    "    pred = [algo.predict(2000, movieIdx) for movieIdx in all_movie_df[\"MovieIndex\"]]\n",
    "    return pred"
   ]
  },
  {
   "cell_type": "markdown",
   "metadata": {},
   "source": [
    "# Neighbor based CF"
   ]
  },
  {
   "cell_type": "code",
   "execution_count": 4,
   "metadata": {},
   "outputs": [],
   "source": [
    "import pandas as pd \n",
    "import numpy as np\n",
    "from sklearn.metrics.pairwise import cosine_similarity\n",
    "from scipy import sparse "
   ]
  },
  {
   "cell_type": "code",
   "execution_count": 2,
   "metadata": {},
   "outputs": [],
   "source": [
    "class NBCF(object):\n",
    "    def __init__(self, data,user_col,item_col,rating_col, k_nearest_neighbor = 5, dist_func=cosine_similarity):\n",
    "        self.data = data\n",
    "        self.user_col = user_col\n",
    "        self.item_col = item_col\n",
    "        self.rating_col = rating_col\n",
    "        \n",
    "        self.users = self.data[user_col].unique()\n",
    "        self.items = self.data[item_col].unique()\n",
    "        self.user_to_idx = dict(zip(list(self.users),list(range(self.users.size))))\n",
    "        self.item_to_idx = dict(zip(list(self.items),list(range(self.items.size))))\n",
    "        \n",
    "        self.k_nearest_neighbor = k_nearest_neighbor\n",
    "        self.dist_func = dist_func\n",
    "        \n",
    "    def normalize(self):\n",
    "        self.data_norm = self.data.copy()\n",
    "        self.mu = {}\n",
    "        for user in self.users:\n",
    "            user_mean = self.data[self.data[self.user_col] == user][self.rating_col].mean()\n",
    "            self.mu[user] = user_mean\n",
    "            self.data_norm.loc[self.data[self.user_col] == user, self.rating_col] -= user_mean\n",
    "        \n",
    "        self.matrix = sparse.coo_matrix((self.data_norm[self.rating_col],\n",
    "            (self.data_norm[self.item_col].apply(lambda x: self.item_to_idx[x]), \n",
    "             self.data_norm[self.user_col].apply(lambda x: self.user_to_idx[x]))), \n",
    "            (self.items.size, self.users.size))\n",
    "        \n",
    "        self.matrix = self.matrix.tocsr()\n",
    "        \n",
    "    def similarity(self):\n",
    "        self.S = self.dist_func(self.matrix.T, self.matrix.T)     \n",
    "        \n",
    "    def fit(self):\n",
    "        self.normalize()\n",
    "        self.similarity()\n",
    "\n",
    "    def predict_rating(self, userID, itemID):\n",
    "#         print(userID,itemID)\n",
    "        rating_for_item = self.data[self.data[self.item_col] == itemID]\n",
    "#         print(rating_for_item)\n",
    "        user_rated_item_idx = np.fromiter(map(self.user_to_idx.__getitem__, rating_for_item[self.user_col]),dtype=np.int)\n",
    "        similarity_with_user = self.S[self.user_to_idx[userID],user_rated_item_idx]\n",
    "        nearest_users_idx = np.argsort(similarity_with_user)[-self.k_nearest_neighbor:] \n",
    "        nearest_distances = similarity_with_user[nearest_users_idx]\n",
    "        nearest_rating = self.matrix[1, user_rated_item_idx[nearest_users_idx]]\n",
    "\n",
    "        return (nearest_rating*nearest_distances)[0]/(np.abs(nearest_distances).sum() + 1e-8) + self.mu[userID]"
   ]
  },
  {
   "cell_type": "code",
   "execution_count": 3,
   "metadata": {},
   "outputs": [
    {
     "name": "stdout",
     "output_type": "stream",
     "text": [
      "RMSE = 1.0691429261084866\n"
     ]
    }
   ],
   "source": [
    "# test movielens\n",
    "train_data = pd.read_csv('ml-100k/ub.base',sep='\\t',header=None)\n",
    "\n",
    "rs = NBCF(train_data,user_col=0,item_col=1,rating_col=2,k_nearest_neighbor=30)\n",
    "rs.fit()\n",
    "\n",
    "rate_test = pd.read_csv('ml-100k/ub.test',sep='\\t',header=None)\n",
    "n_tests = rate_test.shape[0]\n",
    "SE = 0 # squared error\n",
    "for n in range(n_tests):\n",
    "#     print(rate_test.iloc[n, 0], rate_test.iloc[n, 1])\n",
    "    pred = rs.predict_rating(rate_test.iloc[n, 0], rate_test.iloc[n, 1])\n",
    "#     print(pred,rate_test.iloc[n, 2])\n",
    "    SE += (pred - rate_test.iloc[n, 2])**2 \n",
    "\n",
    "RMSE = np.sqrt(SE/n_tests)\n",
    "print('RMSE =', RMSE)"
   ]
  },
  {
   "cell_type": "code",
   "execution_count": 3,
   "metadata": {},
   "outputs": [
    {
     "name": "stdout",
     "output_type": "stream",
     "text": [
      "k =  5\n",
      "RMSE = 2.621727320191911\n"
     ]
    }
   ],
   "source": [
    "# test our data\n",
    "data = pd.read_csv('crawl-ratings/train.csv')\n",
    "\n",
    "rs = NBCF(data,user_col='UserID',item_col='MovieID',rating_col='Rating',k_nearest_neighbor=5)\n",
    "rs.fit()\n",
    "test_data=pd.read_csv('crawl-ratings/test.csv')\n",
    "SE = 0\n",
    "for i, row in test_data.iterrows():\n",
    "    if i>=1000:\n",
    "        break\n",
    "    pred = rs.predict_rating(row['UserID'],row['MovieID'])\n",
    "    SE += (pred - row['Rating'])**2 \n",
    "\n",
    "RMSE = np.sqrt(SE/1000)\n",
    "print('k = ',rs.k_nearest_neighbor)\n",
    "print('RMSE =', RMSE)"
   ]
  },
  {
   "cell_type": "code",
   "execution_count": 4,
   "metadata": {},
   "outputs": [
    {
     "name": "stdout",
     "output_type": "stream",
     "text": [
      "k =  15\n",
      "RMSE = 2.5220999284369174\n"
     ]
    }
   ],
   "source": [
    "# test our data\n",
    "data = pd.read_csv('crawl-ratings/train.csv')\n",
    "\n",
    "rs = NBCF(data,user_col='UserID',item_col='MovieID',rating_col='Rating',k_nearest_neighbor=15)\n",
    "rs.fit()\n",
    "test_data=pd.read_csv('crawl-ratings/test.csv')\n",
    "SE = 0\n",
    "for i, row in test_data.iterrows():\n",
    "    if i>=1000:\n",
    "        break\n",
    "    pred = rs.predict_rating(row['UserID'],row['MovieID'])\n",
    "    SE += (pred - row['Rating'])**2 \n",
    "\n",
    "RMSE = np.sqrt(SE/1000)\n",
    "print('k = ',rs.k_nearest_neighbor)\n",
    "print('RMSE =', RMSE)"
   ]
  },
  {
   "cell_type": "code",
   "execution_count": 5,
   "metadata": {},
   "outputs": [
    {
     "name": "stdout",
     "output_type": "stream",
     "text": [
      "k =  30\n",
      "RMSE = 2.4755570216519267\n"
     ]
    }
   ],
   "source": [
    "# test our data\n",
    "data = pd.read_csv('crawl-ratings/train.csv')\n",
    "\n",
    "rs = NBCF(data,user_col='UserID',item_col='MovieID',rating_col='Rating',k_nearest_neighbor=30)\n",
    "rs.fit()\n",
    "test_data=pd.read_csv('crawl-ratings/test.csv')\n",
    "SE = 0\n",
    "for i, row in test_data.iterrows():\n",
    "    if i>=1000:\n",
    "        break\n",
    "    pred = rs.predict_rating(row['UserID'],row['MovieID'])\n",
    "    SE += (pred - row['Rating'])**2 \n",
    "\n",
    "RMSE = np.sqrt(SE/1000)\n",
    "print('k = ',rs.k_nearest_neighbor)\n",
    "print('RMSE =', RMSE)"
   ]
  },
  {
   "cell_type": "code",
   "execution_count": 5,
   "metadata": {},
   "outputs": [],
   "source": [
    "# test our data\n",
    "data = pd.read_csv('crawl-ratings/train.csv')\n",
    "\n",
    "rs = NBCF(data,user_col='UserID',item_col='MovieID',rating_col='Rating',k_nearest_neighbor=30)\n",
    "rs.fit()"
   ]
  },
  {
   "cell_type": "code",
   "execution_count": 6,
   "metadata": {},
   "outputs": [
    {
     "name": "stdout",
     "output_type": "stream",
     "text": [
      "RMSE = 2.697235202403294\n"
     ]
    }
   ],
   "source": [
    "test_data=pd.read_csv('crawl-ratings/test.csv')\n",
    "output_file = open('crawl-ratings/predict.csv','w')\n",
    "output_file.write('UserID,MovieID,Rating\\n')\n",
    "SE = 0\n",
    "for i, row in test_data.iterrows():\n",
    "    pred = rs.predict_rating(row['UserID'],row['MovieID'])\n",
    "    output_file.write('{},{},{}\\n'.format(row['UserID'],row['MovieID'],pred))\n",
    "    SE += (pred - row['Rating'])**2 \n",
    "\n",
    "RMSE = np.sqrt(SE/test_data.shape[0])\n",
    "print('RMSE =', RMSE)\n",
    "output_file.close()"
   ]
  },
  {
   "cell_type": "markdown",
   "metadata": {},
   "source": [
    "# Content based RS"
   ]
  },
  {
   "cell_type": "code",
   "execution_count": 31,
   "metadata": {},
   "outputs": [],
   "source": [
    "import pandas as pd\n",
    "df = pd.read_csv('crawl-movies-info/movies-info.csv')"
   ]
  },
  {
   "cell_type": "code",
   "execution_count": 32,
   "metadata": {},
   "outputs": [],
   "source": [
    "from sklearn.feature_extraction.text import TfidfTransformer\n",
    "transformer = TfidfTransformer(smooth_idf=True, norm ='l2')\n",
    "tfidf = transformer.fit_transform(df.values[:,1:].tolist()).toarray()"
   ]
  },
  {
   "cell_type": "code",
   "execution_count": 33,
   "metadata": {},
   "outputs": [],
   "source": [
    "import numpy as np\n",
    "from sklearn.linear_model import Ridge\n",
    "from sklearn import linear_model\n",
    " \n",
    "def content_based_predict_rating(movie_ids, scores,alpha=0.01):\n",
    "    clf = Ridge(alpha=alpha, fit_intercept  = True)\n",
    "    Xhat = tfidf[movie_ids, :]\n",
    "    \n",
    "    clf.fit(Xhat, scores)\n",
    "    W = clf.coef_\n",
    "    b = clf.intercept_\n",
    "    rating = tfidf.dot(W) + b\n",
    "    return rating"
   ]
  },
  {
   "cell_type": "code",
   "execution_count": 21,
   "metadata": {},
   "outputs": [
    {
     "data": {
      "text/plain": [
       "array([3.67794815, 1.08623024, 2.98916455, ..., 4.63962796, 4.63962796,\n",
       "       4.63962796])"
      ]
     },
     "execution_count": 21,
     "metadata": {},
     "output_type": "execute_result"
    }
   ],
   "source": [
    "# test\n",
    "movie_ids=np.array([1,2,3,4,5,6])\n",
    "scores=np.array([1.0,3.0,5.0,6.0,2.0,8.0])\n",
    "predict_rating(movie_ids,scores)"
   ]
  },
  {
   "cell_type": "code",
   "execution_count": 37,
   "metadata": {},
   "outputs": [],
   "source": [
    "# calculate all predicting in training set\n",
    "train_df = pd.read_csv('crawl-ratings/train_ids.csv')\n",
    "test_df = pd.read_csv('crawl-ratings/train_ids.csv')\n",
    "SE=0\n",
    "\n",
    "for user in train_df.UserIndex.unique():\n",
    "    train_rating = train_df[train_df.UserIndex==user]\n",
    "    predict = predict_rating(train_rating.MovieIndex.values,train_rating.Rating.values)\n",
    "    \n",
    "    test_rating = test_df[test_df.UserIndex==user]\n",
    "    SE += np.sum((test_rating.Rating - predict[test_rating.MovieIndex.values])**2)"
   ]
  },
  {
   "cell_type": "code",
   "execution_count": 39,
   "metadata": {},
   "outputs": [
    {
     "data": {
      "text/plain": [
       "1.7851635088044007"
      ]
     },
     "execution_count": 39,
     "metadata": {},
     "output_type": "execute_result"
    }
   ],
   "source": [
    "RMSE = np.sqrt(SE/test_df.shape[0])\n",
    "RMSE"
   ]
  },
  {
   "cell_type": "markdown",
   "metadata": {},
   "source": [
    "# Final Model"
   ]
  },
  {
   "cell_type": "code",
   "execution_count": 2,
   "metadata": {},
   "outputs": [],
   "source": [
    "import numpy as np"
   ]
  },
  {
   "cell_type": "code",
   "execution_count": 39,
   "metadata": {},
   "outputs": [],
   "source": [
    "def final_model_predict(movie_ids, scores):\n",
    "    content_based_predict = content_based_predict_rating(movie_ids,scores)\n",
    "    mfcf_pred = mfcf_predict(movie_ids, scores)\n",
    "    print(mfcf_pred)\n",
    "    return (content_based_predict+np.array([pred.est for pred in mfcf_pred]))/2\n",
    "movie_ids=np.array([1,2,3,4,5,6,10])\n",
    "scores=np.array([1.0,3.0,5.0,6.0,2.0,8.0])"
   ]
  },
  {
   "cell_type": "code",
   "execution_count": 61,
   "metadata": {},
   "outputs": [
    {
     "name": "stderr",
     "output_type": "stream",
     "text": [
      "IOPub data rate exceeded.\n",
      "The notebook server will temporarily stop sending output\n",
      "to the client in order to avoid crashing it.\n",
      "To change this limit, set the config variable\n",
      "`--NotebookApp.iopub_data_rate_limit`.\n",
      "\n",
      "Current values:\n",
      "NotebookApp.iopub_data_rate_limit=1000000.0 (bytes/sec)\n",
      "NotebookApp.rate_limit_window=3.0 (secs)\n",
      "\n"
     ]
    }
   ],
   "source": [
    "ratings = final_model_predict(movie_ids, scores)"
   ]
  },
  {
   "cell_type": "code",
   "execution_count": 62,
   "metadata": {},
   "outputs": [
    {
     "data": {
      "text/plain": [
       "array([ 9127, 21343, 36555, 38609, 12871,  1751, 19185, 37675, 35268,\n",
       "       13603], dtype=int64)"
      ]
     },
     "execution_count": 62,
     "metadata": {},
     "output_type": "execute_result"
    }
   ],
   "source": [
    "ratings.argsort()[:10][::-1]"
   ]
  }
 ],
 "metadata": {
  "kernelspec": {
   "display_name": "Python 3",
   "language": "python",
   "name": "python3"
  },
  "language_info": {
   "codemirror_mode": {
    "name": "ipython",
    "version": 3
   },
   "file_extension": ".py",
   "mimetype": "text/x-python",
   "name": "python",
   "nbconvert_exporter": "python",
   "pygments_lexer": "ipython3",
   "version": "3.7.3"
  }
 },
 "nbformat": 4,
 "nbformat_minor": 4
}
